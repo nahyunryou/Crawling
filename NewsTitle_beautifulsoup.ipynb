{
  "cells": [
    {
      "cell_type": "markdown",
      "source": [
        "https://blog.daum.net/geoscience/1617"
      ],
      "metadata": {
        "id": "s6cNG8cQ22MM"
      }
    },
    {
      "cell_type": "markdown",
      "source": [
        "파싱: 어떤 페이지(문서, html 등)에서 내가 원하는 데이터를 특정 패턴이나 순서로 추출해 가공하는 것을 의미"
      ],
      "metadata": {
        "id": "Rq0xoUKY0y4w"
      }
    },
    {
      "cell_type": "code",
      "source": [
        "!pip install requests #Python HTTP 라이브러리\n",
        "!pip install beautifulsoup4 #Beautiful Soup는 HTML과 XML 문서 파싱을 위한 파이썬 패키지"
      ],
      "metadata": {
        "colab": {
          "base_uri": "https://localhost:8080/"
        },
        "id": "_2fjOcCgztXO",
        "outputId": "8def3d9b-379f-478c-8f11-88eaa90c5d59"
      },
      "execution_count": 1,
      "outputs": [
        {
          "output_type": "stream",
          "name": "stdout",
          "text": [
            "Looking in indexes: https://pypi.org/simple, https://us-python.pkg.dev/colab-wheels/public/simple/\n",
            "Requirement already satisfied: requests in /usr/local/lib/python3.7/dist-packages (2.23.0)\n",
            "Requirement already satisfied: certifi>=2017.4.17 in /usr/local/lib/python3.7/dist-packages (from requests) (2022.6.15)\n",
            "Requirement already satisfied: chardet<4,>=3.0.2 in /usr/local/lib/python3.7/dist-packages (from requests) (3.0.4)\n",
            "Requirement already satisfied: idna<3,>=2.5 in /usr/local/lib/python3.7/dist-packages (from requests) (2.10)\n",
            "Requirement already satisfied: urllib3!=1.25.0,!=1.25.1,<1.26,>=1.21.1 in /usr/local/lib/python3.7/dist-packages (from requests) (1.24.3)\n",
            "Looking in indexes: https://pypi.org/simple, https://us-python.pkg.dev/colab-wheels/public/simple/\n",
            "Requirement already satisfied: beautifulsoup4 in /usr/local/lib/python3.7/dist-packages (4.6.3)\n"
          ]
        }
      ]
    },
    {
      "cell_type": "markdown",
      "source": [
        "Request를 통해 네이버 뉴스에서 '범죄도시2'을 검색한 결과를 호출"
      ],
      "metadata": {
        "id": "jYN84ShM0-wm"
      }
    },
    {
      "cell_type": "code",
      "execution_count": 12,
      "metadata": {
        "id": "htwFxg7zyD8B"
      },
      "outputs": [],
      "source": [
        "import requests\n",
        "r = requests.get('https://search.naver.com/search.naver?sm=tab_sug.top&where=news&query=%EB%B2%94%EC%A3%84%EB%8F%84%EC%8B%9C2&oquery=%EA%B5%AD%EB%A6%BD%EA%B3%B5%EC%9B%90&tqi=hojNBwp0J1sssMdfh30ssssstDh-113857&acq=%EB%B2%94%EC%A3%84%EB%8F%84%EC%8B%9C&acr=1&qdt=0')\n",
        "html_doc = r.text\n"
      ]
    },
    {
      "cell_type": "markdown",
      "source": [
        "위에서 정의한 html_doc을 Beautiful Soup를 통해 열기"
      ],
      "metadata": {
        "id": "EDiuvsUX1OCM"
      }
    },
    {
      "cell_type": "code",
      "source": [
        "from bs4 import BeautifulSoup\n",
        "soup = BeautifulSoup(html_doc, 'html.parser')\n"
      ],
      "metadata": {
        "id": "H-CWMZghzKRr"
      },
      "execution_count": 13,
      "outputs": []
    },
    {
      "cell_type": "code",
      "source": [
        "soup.find_all('a') #find_all 함수를 사용하면, <a> 태그를 모두 검색"
      ],
      "metadata": {
        "colab": {
          "base_uri": "https://localhost:8080/"
        },
        "id": "RKrkzTJlzMXl",
        "outputId": "40d00971-5810-479c-fe4e-261a009fd912"
      },
      "execution_count": 4,
      "outputs": [
        {
          "output_type": "execute_result",
          "data": {
            "text/plain": [
              "[<a href=\"#lnb\"><span>메뉴 영역으로 바로가기</span></a>,\n",
              " <a href=\"#content\"><span>본문 영역으로 바로가기</span></a>,\n",
              " <a class=\"link\" href=\"https://www.naver.com\" onclick=\"return goOtherCR(this, 'a=sta.naver&amp;r=&amp;i=&amp;u='+urlencode(this.href));\"><i class=\"spnew ico_logo\">NAVER</i></a>,\n",
              " <a aria-pressed=\"false\" class=\"bt_setkr\" href=\"#\" id=\"ke_kbd_btn\" onclick=\"return tCR('a=sch.ime');\" role=\"button\"><i class=\"spnew ico_keyboard\">한글 입력기</i></a>,\n",
              " <a aria-pressed=\"false\" class=\"bt_atcp _btn_arw\" data-atcmp-element=\"\" href=\"#\" id=\"nautocomplete\" role=\"button\"><i class=\"spnew ico_arrow\">자동완성 레이어</i></a>,\n",
              " <a aria-pressed=\"false\" class=\"item _delAll\" href=\"#\" role=\"button\">전체삭제</a>,\n",
              " <a class=\"kwd\" href=\"#\"> <span class=\"fix\"><span class=\"common_ico_kwd\"><i class=\"imsc ico_search\"></i></span><span>@txt@</span></span> </a>,\n",
              " <a aria-pressed=\"false\" class=\"bt_item _del\" href=\"#\" role=\"button\"><i class=\"imsc ico_del\">삭제</i></a>,\n",
              " <a class=\"kwd_help\" href=\"https://help.naver.com/support/alias/search/word/word_29.naver\" onclick=\"return goOtherCR(this,'a=sly.help&amp;r=&amp;i=&amp;u='+urlencode(this.href));\" target=\"_blank\">도움말</a>,\n",
              " <a class=\"kwd_help\" href=\"https://help.naver.com/support/alias/search/word/word_29.naver\" onclick=\"return goOtherCR(this,'a=sly.help&amp;r=&amp;i=&amp;u='+urlencode(this.href));\" target=\"_blank\">도움말</a>,\n",
              " <a href=\"https://help.naver.com/support/alias/search/word/word_29.naver\" onclick=\"return goOtherCR(this,'a=sly.help&amp;r=&amp;i=&amp;u='+urlencode(this.href));\" target=\"_blank\">도움말</a>,\n",
              " <a class=\"close _keywordOnOff\" href=\"#\">자동저장 끄기</a>,\n",
              " <a class=\"link_item\" href=\"#\"> <span class=\"common_ico_kwd\"><i class=\"imsc ico_search\"></i></span> <div class=\"dsc_area\"> <span class=\"tit\">@5@회차 당첨번호</span> <span class=\"dsc\"> <span class=\"item\">추첨 @13@.</span><span class=\"item\">지급기한 1년</span> </span> </div> <span class=\"etc_area\"> <span class=\"etc lotto\"> <em class=\"n@6@\">@6@</em><em class=\"n@7@\">@7@</em><em class=\"n@8@\">@8@</em><em class=\"n@9@\">@9@</em><em class=\"n@10@\">@10@</em><em class=\"n@11@\">@11@</em><em class=\"imsc_bf bonus n@12@\">@12@</em> </span> </span> </a>,\n",
              " <a class=\"link_item @11@\" href=\"#\"> <span class=\"common_ico_kwd\"><i class=\"imsc ico @12@\">@14@</i></span> <div class=\"dsc_area\"> <span class=\"tit\">@txt@<span class=\"sub\">@currency@</span></span> <span class=\"dsc\"> <span class=\"item\"><i class=\"imsc ico_arr\"></i>@8@(@9@%)</span> </span> </div> <span class=\"etc_area\"> <span class=\"etc\"><em class=\"num\">@6@</em>원</span> </span> </a>,\n",
              " <a class=\"link_item @12@\" href=\"#\"> <span class=\"common_ico_kwd\"><i class=\"imsc ico_search\"></i></span> <div class=\"dsc_area\"> <span class=\"tit\">@txt@</span> <span class=\"dsc\"> <span class=\"item\">@7@, @message@</span> </span> </div> <span class=\"etc_area\"> <span class=\"etc\"> <span class=\"ico_weather\"><i class=\"imsc ico ico@iconNo@\">@7@</i></span> <em class=\"degree\">@8@<sup class=\"celsius\">°</sup></em> </span> </span> </a>,\n",
              " <a class=\"link_item\" href=\"@5@\" target=\"_blank\"> <span class=\"common_ico_kwd\"><i class=\"imsc ico_url\"></i></span> <div class=\"dsc_area\"> <span class=\"tit\">@txt@</span> <span class=\"dsc\"> <span class=\"item\">@5@</span> </span> </div> <span class=\"etc_area\"> <span class=\"etc\">바로가기</span> </span> </a>,\n",
              " <a class=\"kwd\" href=\"#\"> <span class=\"fix\"><span class=\"common_ico_kwd\"><i class=\"imsc ico_search\"></i></span>@txt@</span> </a>,\n",
              " <a aria-pressed=\"false\" class=\"bt_item _add\" href=\"#\" role=\"button\"><i class=\"imsc ico_insert\">추가</i></a>,\n",
              " <a class=\"kwd\" href=\"#\"> <span class=\"fix\"><span class=\"common_ico_kwd\"><i class=\"imsc ico_search\"></i></span>@txt@</span> </a>,\n",
              " <a aria-pressed=\"false\" class=\"bt_item _add\" href=\"#\" role=\"button\"><i class=\"imsc ico_insert\">추가</i></a>,\n",
              " <a class=\"kwd\" href=\"#\"> <span class=\"fix\"><span class=\"common_ico_kwd\"><i class=\"imsc ico_search\"></i></span>@query@ <span class=\"context\">@intend@</span></span> </a>,\n",
              " <a aria-pressed=\"false\" class=\"bt_item _add\" href=\"#\" role=\"button\"><i class=\"imsc ico_insert\">추가</i></a>,\n",
              " <a class=\"link _alert_link\" href=\"#\" onclick=\"return goOtherCR(this,'a=sug.vote&amp;r=&amp;i=&amp;u='+urlencode(this.href));\" target=\"_blank\">자세히보기</a>,\n",
              " <a class=\"link_dsc\" href=\"https://help.naver.com/support/alias/search/word/word_16.naver\" onclick=\"return goOtherCR(this,'a=sug.cxhelp&amp;r=&amp;i=&amp;u='+urlencode(this.href));\" target=\"_blank\">관심사를 반영한 컨텍스트 자동완성<i class=\"imsc ico_help\">도움말</i></a>,\n",
              " <a aria-pressed=\"false\" class=\"bt_switch active _plus_btn\" href=\"#\" role=\"button\"><i class=\"imsc ico_option\">컨텍스트 자동완성</i></a>,\n",
              " <a class=\"btn btn_view\" href=\"https://help.naver.com/support/alias/search/word/word_16.naver\" onclick=\"return goOtherCR(this,'a=sug.cxhelp&amp;r=&amp;i=&amp;u='+urlencode(this.href));\" target=\"_blank\">자세히</a>,\n",
              " <a class=\"btn btn_login\" href=\"https://nid.naver.com/nidlogin.login?url=https%3A%2F%2Fsearch.naver.com%2Fsearch.naver%3Fsm%3Dtab_sug.top%26where%3Dnews%26query%3D%25EB%25B2%2594%25EC%25A3%2584%25EB%258F%2584%25EC%258B%259C2%26oquery%3D%25EA%25B5%25AD%25EB%25A6%25BD%25EA%25B3%25B5%25EC%259B%2590%26tqi%3DhojNBwp0J1sssMdfh30ssssstDh-113857%26acq%3D%25EB%25B2%2594%25EC%25A3%2584%25EB%258F%2584%25EC%258B%259C%26acr%3D1%26qdt%3D0\" onclick=\"return goOtherCR(this,'a=sug.cxlogin&amp;r=&amp;i=&amp;u='+urlencode(this.href));\">로그인</a>,\n",
              " <a class=\"btn btn_view\" href=\"https://help.naver.com/support/alias/search/word/word_16.naver\" onclick=\"return goOtherCR(this,'a=sug.cxhelp&amp;r=&amp;i=&amp;u='+urlencode(this.href));\" target=\"_blank\">자세히</a>,\n",
              " <a class=\"btn_close _plus_layer_close\" href=\"#\" onclick=\"return tCR('a=sug.cxhide');\" role=\"button\"><i class=\"imsc ico_close\">컨텍스트 자동완성 레이어 닫기</i></a>,\n",
              " <a href=\"https://help.naver.com/support/alias/search/word/word_17.naver\" onclick=\"return goOtherCR(this,'a=sug.help&amp;r=&amp;i=&amp;u='+urlencode(this.href));\" target=\"_blank\">도움말</a>,\n",
              " <a class=\"report\" href=\"https://help.naver.com/support/alias/search/word/word_18.naver\" onclick=\"return goOtherCR(this,'a=sug.report&amp;r=&amp;i=&amp;u='+urlencode(this.href));\" target=\"_blank\">신고</a>,\n",
              " <a class=\"close _suggestOnOff\" href=\"#\">자동완성 끄기</a>,\n",
              " <a aria-selected=\"false\" class=\"tab\" href=\"?where=nexearch&amp;sm=tab_jum&amp;query=%EB%B2%94%EC%A3%84%EB%8F%84%EC%8B%9C2\" onclick=\"return goOtherCR(this,'a=tab*N.jmp&amp;r=1&amp;i=&amp;u='+urlencode(this.href));\" role=\"tab\">통합</a>,\n",
              " <a aria-selected=\"false\" class=\"tab\" href=\"?where=view&amp;sm=tab_jum&amp;query=%EB%B2%94%EC%A3%84%EB%8F%84%EC%8B%9C2\" onclick=\"return goOtherCR(this,'a=tab*e.jmp&amp;r=2&amp;i=&amp;u='+urlencode(this.href))\" role=\"tab\">VIEW</a>,\n",
              " <a aria-selected=\"false\" class=\"tab\" href=\"?where=image&amp;sm=tab_jum&amp;query=%EB%B2%94%EC%A3%84%EB%8F%84%EC%8B%9C2\" onclick=\"return goOtherCR(this,'a=tab*i.jmp&amp;r=3&amp;i=&amp;u='+urlencode(this.href));\" role=\"tab\">이미지</a>,\n",
              " <a aria-selected=\"false\" class=\"tab\" href=\"?where=kin&amp;sm=tab_jum&amp;query=%EB%B2%94%EC%A3%84%EB%8F%84%EC%8B%9C2\" onclick=\"return goOtherCR(this,'a=tab*k.jmp&amp;r=4&amp;i=&amp;u='+urlencode(this.href));\" role=\"tab\">지식iN</a>,\n",
              " <a aria-selected=\"false\" class=\"tab\" href=\"?where=influencer&amp;sm=tab_jum&amp;query=%EB%B2%94%EC%A3%84%EB%8F%84%EC%8B%9C2\" onclick=\"return goOtherCR(this,'a=tab*F.jmp&amp;r=5&amp;i=&amp;u='+urlencode(this.href));\" role=\"tab\">인플루언서</a>,\n",
              " <a aria-selected=\"false\" class=\"tab\" href=\"?where=video&amp;sm=tab_jum&amp;query=%EB%B2%94%EC%A3%84%EB%8F%84%EC%8B%9C2\" onclick=\"return goOtherCR(this,'a=tab*v.jmp&amp;r=6&amp;i=&amp;u='+urlencode(this.href));\" role=\"tab\">동영상</a>,\n",
              " <a aria-selected=\"false\" class=\"tab\" href=\"https://search.shopping.naver.com/search/all?where=all&amp;frm=NVSCTAB&amp;query=%EB%B2%94%EC%A3%84%EB%8F%84%EC%8B%9C2\" onclick=\"return goOtherCR(this,'a=tab*S.jmp&amp;r=7&amp;i=&amp;u='+urlencode(this.href));\" role=\"tab\" target=\"_blank\">쇼핑</a>,\n",
              " <a aria-selected=\"true\" class=\"tab\" href=\"?where=news&amp;sm=tab_jum&amp;query=%EB%B2%94%EC%A3%84%EB%8F%84%EC%8B%9C2\" onclick=\"return goOtherCR(this,'a=tab*n.now&amp;r=8&amp;i=&amp;u='+urlencode(this.href));\" role=\"tab\">뉴스</a>,\n",
              " <a aria-selected=\"false\" class=\"tab\" href=\"https://dict.naver.com/search.nhn?dicQuery=%EB%B2%94%EC%A3%84%EB%8F%84%EC%8B%9C2&amp;query=%EB%B2%94%EC%A3%84%EB%8F%84%EC%8B%9C2&amp;target=dic&amp;query_utf=&amp;isOnlyViewEE=\" onclick=\"return goOtherCR(this,'a=tab*L.jmp&amp;r=9&amp;i=&amp;u='+urlencode(this.href));\" role=\"tab\" target=\"_blank\">어학사전</a>,\n",
              " <a aria-selected=\"false\" class=\"tab\" href=\"https://map.naver.com/v5/search/%EB%B2%94%EC%A3%84%EB%8F%84%EC%8B%9C2\" onclick=\"return goOtherCR(this,'a=tab*M.jmp&amp;r=10&amp;i=&amp;u='+urlencode(this.href));\" role=\"tab\" target=\"_blank\">지도</a>,\n",
              " <a aria-pressed=\"false\" class=\"lnb_more _more_btn\" href=\"#\" onclick=\"tCR(jQuery(this).attr('aria-pressed') === 'false' ? 'a=tab.more' : 'a=tmr.less');\" role=\"button\"> <i class=\"spnew ico_lnb_more\">더보기</i> </a>,\n",
              " <a aria-selected=\"false\" class=\"tab\" href=\"https://book.naver.com/search/search.nhn?query=%EB%B2%94%EC%A3%84%EB%8F%84%EC%8B%9C2\" onclick=\"return goOtherCR(this,'a=tmr*B.jmp&amp;r=1&amp;i=&amp;u='+urlencode(this.href));\" role=\"tab\" target=\"_blank\">책</a>,\n",
              " <a aria-selected=\"false\" class=\"tab\" href=\"https://vibe.naver.com/search?query=%EB%B2%94%EC%A3%84%EB%8F%84%EC%8B%9C2\" onclick=\"return goOtherCR(this,'a=tmr*m.jmp&amp;r=2&amp;i=&amp;u='+urlencode(this.href));\" role=\"tab\" target=\"_blank\">뮤직</a>,\n",
              " <a aria-selected=\"false\" class=\"tab\" href=\"?where=kdic&amp;sm=tab_jum&amp;query=%EB%B2%94%EC%A3%84%EB%8F%84%EC%8B%9C2\" onclick=\"return goOtherCR(this,'a=tmr*K.jmp&amp;r=3&amp;i=&amp;u='+urlencode(this.href));\" role=\"tab\">지식백과</a>,\n",
              " <a aria-selected=\"false\" class=\"tab\" href=\"https://audioclip.naver.com/search/all?keyword=%EB%B2%94%EC%A3%84%EB%8F%84%EC%8B%9C2\" onclick=\"return goOtherCR(this,'a=tmr*A.jmp&amp;r=4&amp;i=&amp;u='+urlencode(this.href));\" role=\"tab\" target=\"_blank\">오디오클립</a>,\n",
              " <a aria-selected=\"false\" class=\"tab\" href=\"https://academic.naver.com/search.naver?field=0&amp;query=%EB%B2%94%EC%A3%84%EB%8F%84%EC%8B%9C2\" onclick=\"return goOtherCR(this,'a=tmr*a.jmp&amp;r=5&amp;i=&amp;u='+urlencode(this.href));\" role=\"tab\" target=\"_blank\">학술정보</a>,\n",
              " <a aria-pressed=\"false\" class=\"btn_option _option_btn\" href=\"#\" onclick=\"return tCR('a=tmr.optn');\" role=\"button\" style=\"display:none\">검색옵션</a>,\n",
              " <a class=\"spnew_bf bt_share naver-splugin\" data-band-url=\"https://search.naver.com/search.naver?acq=%EB%B2%94%EC%A3%84%EB%8F%84%EC%8B%9C&amp;acr=1&amp;oquery=%EA%B5%AD%EB%A6%BD%EA%B3%B5%EC%9B%90&amp;qdt=0&amp;query=%EB%B2%94%EC%A3%84%EB%8F%84%EC%8B%9C2&amp;sm=bdp_pin&amp;tqi=hojNBwp0J1sssMdfh30ssssstDh-113857&amp;where=news\" data-blog-url=\"https://search.naver.com/search.naver?acq=%EB%B2%94%EC%A3%84%EB%8F%84%EC%8B%9C&amp;acr=1&amp;oquery=%EA%B5%AD%EB%A6%BD%EA%B3%B5%EC%9B%90&amp;qdt=0&amp;query=%EB%B2%94%EC%A3%84%EB%8F%84%EC%8B%9C2&amp;sm=svc_pin.blog&amp;tqi=hojNBwp0J1sssMdfh30ssssstDh-113857&amp;where=news\" data-cafe-source-form=\"2\" data-cafe-url=\"https://search.naver.com/search.naver?acq=%EB%B2%94%EC%A3%84%EB%8F%84%EC%8B%9C&amp;acr=1&amp;oquery=%EA%B5%AD%EB%A6%BD%EA%B3%B5%EC%9B%90&amp;qdt=0&amp;query=%EB%B2%94%EC%A3%84%EB%8F%84%EC%8B%9C2&amp;sm=svc_pin.cafe&amp;tqi=hojNBwp0J1sssMdfh30ssssstDh-113857&amp;where=news\" data-calendar-url=\"https://search.naver.com/search.naver?acq=%EB%B2%94%EC%A3%84%EB%8F%84%EC%8B%9C&amp;acr=1&amp;oquery=%EA%B5%AD%EB%A6%BD%EA%B3%B5%EC%9B%90&amp;qdt=0&amp;query=%EB%B2%94%EC%A3%84%EB%8F%84%EC%8B%9C2&amp;sm=svc_pin.cal&amp;tqi=hojNBwp0J1sssMdfh30ssssstDh-113857&amp;where=news\" data-evkey=\"search\" data-facebook-url=\"https://search.naver.com/search.naver?acq=%EB%B2%94%EC%A3%84%EB%8F%84%EC%8B%9C&amp;acr=1&amp;oquery=%EA%B5%AD%EB%A6%BD%EA%B3%B5%EC%9B%90&amp;qdt=0&amp;query=%EB%B2%94%EC%A3%84%EB%8F%84%EC%8B%9C2&amp;sm=fbp_pin&amp;tqi=hojNBwp0J1sssMdfh30ssssstDh-113857&amp;where=news\" data-mail-display=\"off\" data-me-display=\"off\" data-memo-url=\"https://search.naver.com/search.naver?acq=%EB%B2%94%EC%A3%84%EB%8F%84%EC%8B%9C&amp;acr=1&amp;oquery=%EA%B5%AD%EB%A6%BD%EA%B3%B5%EC%9B%90&amp;qdt=0&amp;query=%EB%B2%94%EC%A3%84%EB%8F%84%EC%8B%9C2&amp;sm=svc_pin.memo&amp;tqi=hojNBwp0J1sssMdfh30ssssstDh-113857&amp;where=news\" data-option=\"{baseElement:'spiButton2', layerPosition:'outside-bottom', align:'right', top:4, left:0, marginLeft:8, marginTop:10}\" data-service-name=\"통합검색\" data-style=\"unity-v2\" data-twitter-url=\"https://search.naver.com/search.naver?acq=%EB%B2%94%EC%A3%84%EB%8F%84%EC%8B%9C&amp;acr=1&amp;oquery=%EA%B5%AD%EB%A6%BD%EA%B3%B5%EC%9B%90&amp;qdt=0&amp;query=%EB%B2%94%EC%A3%84%EB%8F%84%EC%8B%9C2&amp;sm=twp_pin&amp;tqi=hojNBwp0J1sssMdfh30ssssstDh-113857&amp;where=news\" data-use-short-url=\"on\" href=\"#\" id=\"spiButton2\" onclick=\"return tCR('a=lnb.shr');\" role=\"button\">공유</a>,\n",
              " <a aria-selected=\"true\" class=\"item\" href=\"#\" onclick=\"news_submit_sort_option(0, 'simcls'); return false;\" role=\"option\">관련도순</a>,\n",
              " <a aria-selected=\"false\" class=\"item\" href=\"#\" onclick=\"news_submit_sort_option(1, 'newcls'); return false;\" role=\"option\">최신순</a>,\n",
              " <a aria-selected=\"false\" class=\"item\" href=\"#\" onclick=\"news_submit_sort_option(2, 'oldcls'); return false;\" role=\"option\">오래된순</a>,\n",
              " <a aria-expanded=\"false\" aria-haspopup=\"listbox\" aria-label=\"검색옵션 열기\" class=\"btn_option _search_option_open_btn\" href=\"javascript:;\" onclick=\"tCR('a=opt.unfd');\" role=\"button\"><i class=\"spnew ico_filter\"></i>옵션</a>,\n",
              " <a aria-selected=\"true\" class=\"txt\" href=\"#\" onclick=\"news_submit_sort_option(0, 'sim'); return false;\" role=\"tab\">관련도순</a>,\n",
              " <a aria-selected=\"false\" class=\"txt\" href=\"#\" onclick=\"news_submit_sort_option(1, 'new'); return false;\" role=\"tab\">최신순</a>,\n",
              " <a aria-selected=\"false\" class=\"txt\" href=\"#\" onclick=\"news_submit_sort_option(2, 'old'); return false;\" role=\"tab\">오래된순</a>,\n",
              " <a aria-selected=\"true\" class=\"txt\" href=\"#\" onclick=\"news_set_period('all'); return false;\" role=\"tab\">전체</a>,\n",
              " <a aria-selected=\"false\" class=\"txt txt_option _time_select_trigger\" data-search-option-item=\"\" href=\"#\" onclick=\"tCR('a=opt.hour');\" role=\"tab\">1시간<i class=\"spnew ico_check\">옵션<em class=\"open\">펼치기</em><em class=\"close\">접기</em></i></a>,\n",
              " <a aria-selected=\"false\" class=\"txt\" href=\"#\" onclick=\"news_set_period('1day'); return false;\" role=\"tab\">1일</a>,\n",
              " <a aria-selected=\"false\" class=\"txt\" href=\"#\" onclick=\"news_set_period('1week'); return false;\" role=\"tab\">1주</a>,\n",
              " <a aria-selected=\"false\" class=\"txt\" href=\"#\" onclick=\"news_set_period('1month'); return false;\" role=\"tab\">1개월</a>,\n",
              " <a aria-selected=\"false\" class=\"txt\" href=\"#\" onclick=\"news_set_period('3month'); return false;\" role=\"tab\">3개월</a>,\n",
              " <a aria-selected=\"false\" class=\"txt\" href=\"#\" onclick=\"news_set_period('6month'); return false;\" role=\"tab\">6개월</a>,\n",
              " <a aria-selected=\"false\" class=\"txt\" href=\"#\" onclick=\"news_set_period('1year'); return false;\" role=\"tab\">1년</a>,\n",
              " <a aria-selected=\"false\" class=\"txt txt_option _calendar_select_trigger\" data-select-trigger=\"\" href=\"#\" onclick=\"tCR('a=opt.cal');\" role=\"tab\">직접입력<i class=\"spnew ico_check\">옵션<em class=\"open\">펼치기</em><em class=\"close\">접기</em></i></a>,\n",
              " <a class=\"link\" href=\"javascript:;\">1시간</a>,\n",
              " <a class=\"link\" href=\"javascript:;\">2시간</a>,\n",
              " <a class=\"link\" href=\"javascript:;\">3시간</a>,\n",
              " <a class=\"link\" href=\"javascript:;\">4시간</a>,\n",
              " <a class=\"link\" href=\"javascript:;\">5시간</a>,\n",
              " <a class=\"link\" href=\"javascript:;\">6시간</a>,\n",
              " <a aria-selected=\"true\" class=\"spnew_bf ico_calendar _start_trigger selected\" href=\"#\" onclick=\"tCR('a=opt.str');\" role=\"tab\"></a>,\n",
              " <a class=\"spnew_bf ico_calendar _end_trigger\" href=\"#\" onclick=\"tCR('a=opt.fin');\" role=\"tab\"></a>,\n",
              " <a aria-selected=\"true\" class=\"txt\" href=\"#\" onclick=\"news_submit_category_option(0); return false;\" role=\"tab\">전체</a>,\n",
              " <a aria-selected=\"false\" class=\"txt\" href=\"#\" onclick=\"news_submit_category_option(1); return false;\" role=\"tab\">포토</a>,\n",
              " <a aria-selected=\"false\" class=\"txt\" href=\"#\" onclick=\"news_submit_category_option(2); return false;\" role=\"tab\">동영상</a>,\n",
              " <a aria-selected=\"false\" class=\"txt\" href=\"#\" onclick=\"news_submit_category_option(3); return false;\" role=\"tab\">지면기사</a>,\n",
              " <a aria-selected=\"false\" class=\"txt\" href=\"#\" onclick=\"news_submit_category_option(4); return false;\" role=\"tab\">보도자료</a>,\n",
              " <a aria-selected=\"false\" class=\"txt\" href=\"#\" onclick=\"news_submit_category_option(5); return false;\" role=\"tab\">자동생성기사</a>,\n",
              " <a aria-selected=\"true\" class=\"txt\" href=\"#\" onclick=\"news_submit_office_option('all', '', ''); return false;\" role=\"tab\">전체</a>,\n",
              " <a aria-selected=\"false\" class=\"txt txt_option _category_select_trigger\" data-select-trigger=\"\" href=\"javascript:;\" onclick=\"tCR('a=opt.journalcategory');\" role=\"tab\">언론사 분류순<i class=\"spnew ico_check\">옵션<em class=\"open\">펼치기</em><em class=\"close\">접기</em></i></a>,\n",
              " <a aria-selected=\"false\" class=\"txt txt_option _abc_select_trigger\" data-select-trigger=\"\" href=\"javascript:;\" onclick=\"tCR('a=opt.journalbylexico');\" role=\"tab\">가나다순<i class=\"spnew ico_check\">옵션<em class=\"open\">펼치기</em><em class=\"close\">접기</em></i></a>,\n",
              " <a class=\"btn_clear spnew_bf\" href=\"?where=news&amp;sm=tab_opt&amp;query=%EB%B2%94%EC%A3%84%EB%8F%84%EC%8B%9C2&amp;nso_open=1\" onclick=\"return goOtherCR(this, 'a=opt.reset&amp;u='+urlencode(this.href));\" role=\"button\">옵션 초기화</a>,\n",
              " <a class=\"link_help\" href=\"https://help.naver.com/support/alias/search/integration/intergration_88.naver\" onclick=\"return goOtherCR(this, 'a=opt.help&amp;u='+urlencode(this.href));\" target=\"_blank\">검색옵션 가이드<i class=\"spnew api_ico_help\"></i></a>,\n",
              " <a class=\"spnew_af pick_link\" href=\"https://news.naver.com/main/static/channelPromotion.html\" onclick=\"return goOtherCR(this, 'a=upr.pick&amp;u='+urlencode(this.href));\" target=\"_blank\"> <i class=\"spnew ico_pick\">언론사 선정</i>언론사가 선정한 주요기사 혹은 심층기획 기사입니다. </a>,\n",
              " <a aria-pressed=\"false\" class=\"btn_save _keep_trigger\" data-url=\"https://www.nocutnews.co.kr/news/5774805\" href=\"#\" onclick=\"tCR('a=nws*a.kep&amp;r=1&amp;i=88000112_000000000000000003655944&amp;u=javascript'); return false;\" role=\"button\"><i class=\"spnew ico_save\">문서 저장하기</i></a>,\n",
              " <a class=\"spnew_af item item_save _keep_save\" data-cr-off=\"a=nws*a.kepoff&amp;r=1&amp;i=88000112_000000000000000003655944&amp;u=javascript\" data-cr-on=\"a=nws*a.kepon&amp;r=1&amp;i=88000112_000000000000000003655944&amp;u=javascript\" href=\"#\" role=\"button\">Keep에 저장</a>,\n",
              " <a class=\"spnew_af item item_quick\" href=\"https://keep.naver.com/\" onclick=\"return goOtherCR(this,'a=nws*a.kephome&amp;r=1&amp;i=88000112_000000000000000003655944&amp;u='+urlencode(this.href));\" target=\"_blank\">Keep 바로가기</a>,\n",
              " <a class=\"info press\" href=\"http://www.nocutnews.co.kr\" onclick=\"return goOtherCR(this, 'a=nws*a.prof&amp;r=1&amp;i=88000112_000000000000000003655944&amp;g=079.0003655944&amp;u='+urlencode(this.href));\" target=\"_blank\"><span class=\"thumb_box\"><img alt=\"\" class=\"thumb\" height=\"20\" onerror=\"this.src='data:image/gif;base64,R0lGODlhAQABAIAAAAAAAP///yH5BAEAAAAALAAAAAABAAEAAAIBRAA7';this.className='thumb bg_default_press'\" src=\"https://search.pstatic.net/common/?src=https%3A%2F%2Fmimgnews.pstatic.net%2Fimage%2Fupload%2Foffice_logo%2F079%2F2017%2F01%2F05%2Flogo_079_18_20170105111205.png&amp;type=f54_54&amp;expire=24&amp;refresh=true\" width=\"20\"/></span>노컷뉴스</a>,\n",
              " <a class=\"info\" href=\"https://n.news.naver.com/mnews/article/079/0003655944?sid=106\" onclick=\"return goOtherCR(this, 'a=nws*a.nav&amp;r=1&amp;i=88000112_000000000000000003655944&amp;u='+urlencode(this.href));\" target=\"_blank\">네이버뉴스</a>,\n",
              " <a class=\"news_tit\" href=\"https://www.nocutnews.co.kr/news/5774805\" onclick=\"return goOtherCR(this, 'a=nws*a.tit&amp;r=1&amp;i=88000112_000000000000000003655944&amp;g=079.0003655944&amp;u='+urlencode(this.href));\" target=\"_blank\" title=\"'범죄도시 2', '부산행' 뛰어넘고 역대 韓 영화 15위\">'<mark>범죄도시 2</mark>', '부산행' 뛰어넘고 역대 韓 영화 15위</a>,\n",
              " <a class=\"api_txt_lines dsc_txt_wrap\" href=\"https://www.nocutnews.co.kr/news/5774805\" onclick=\"return goOtherCR(this, 'a=nws*a.body&amp;r=1&amp;i=88000112_000000000000000003655944&amp;g=079.0003655944&amp;u='+urlencode(this.href));\" target=\"_blank\">코로나19 팬데믹 시대 첫 천만 영화인 '<mark>범죄도시 2</mark>'가 '부산행'의 흥행 기록을 뛰어넘어 역대 한국 영화 흥행 15위에 올랐다. 21일 영화진흥위원회 영화관 입장권 통합전산망에 따르면 오전 11시 기준 지난달 18일...</a>,\n",
              " <a class=\"dsc_thumb \" href=\"https://www.nocutnews.co.kr/news/5774805\" onclick=\"return goOtherCR(this, 'a=nws*a.img&amp;r=1&amp;i=88000112_000000000000000003655944&amp;g=079.0003655944&amp;u='+urlencode(this.href));\" target=\"_blank\"><img alt=\"‘범죄도시 2‘, ‘부산행\" class=\"thumb api_get\" height=\"90\" onerror=\"this.parentNode.style.display='none';\" src=\"https://search.pstatic.net/common/?src=https%3A%2F%2Fimgnews.pstatic.net%2Fimage%2Forigin%2F079%2F2022%2F06%2F21%2F3655944.jpg&amp;type=ff264_180&amp;expire=2&amp;refresh=true\" width=\"132\"/></a>,\n",
              " <a class=\"sub_txt\" href=\"https://n.news.naver.com/mnews/article/382/0000987739?sid=106\" onclick=\"return goOtherCR(this, 'a=nws*c.nav&amp;r=2&amp;i=88127053_000000000000000000987739&amp;u='+urlencode(this.href));\" target=\"_blank\">네이버뉴스</a>,\n",
              " <a class=\"elss sub_tit\" href=\"https://sports.donga.com/article/all/20220621/114044164/1\" onclick=\"return goOtherCR(this, 'a=nws*c.tit&amp;r=2&amp;i=88127053_000000000000000000987739&amp;g=382.0000987739&amp;u='+urlencode(this.href));\" target=\"_blank\" title=\"‘범죄도시2’ ‘부산행’ 뛰어넘었다…1200만 목전 [DA:차트]\">‘<mark>범죄도시2</mark>’ ‘부산행’ 뛰어넘었다…1200만 목전 [DA:차트]</a>,\n",
              " <a class=\"sub_txt\" href=\"https://n.news.naver.com/mnews/article/241/0003132034?sid=106\" onclick=\"return goOtherCR(this, 'a=nws*c.nav&amp;r=3&amp;i=880002FC_000000000000000003132034&amp;u='+urlencode(this.href));\" target=\"_blank\">네이버뉴스</a>,\n",
              " <a class=\"elss sub_tit\" href=\"https://isplus.joins.com/2022/06/21/enter/entertainment/20220621155205988.html\" onclick=\"return goOtherCR(this, 'a=nws*c.tit&amp;r=3&amp;i=880002FC_000000000000000003132034&amp;g=241.0003132034&amp;u='+urlencode(this.href));\" target=\"_blank\" title=\"‘범죄도시2’ 역대 한국 영화 흥행 15위 등극…1200만 관객 돌파 목전\">‘<mark>범죄도시2</mark>’ 역대 한국 영화 흥행 15위 등극…1200만 관객 돌파 목전</a>,\n",
              " <a class=\"sub_txt\" href=\"https://n.news.naver.com/mnews/article/416/0000284587?sid=106\" onclick=\"return goOtherCR(this, 'a=nws*c.nav&amp;r=4&amp;i=8812805F_000000000000000000284587&amp;u='+urlencode(this.href));\" target=\"_blank\">네이버뉴스</a>,\n",
              " <a class=\"elss sub_tit\" href=\"https://ent.sbs.co.kr/news/article.do?article_id=E10010252778&amp;plink=ORI&amp;cooper=NAVER\" onclick=\"return goOtherCR(this, 'a=nws*c.tit&amp;r=4&amp;i=8812805F_000000000000000000284587&amp;g=416.0000284587&amp;u='+urlencode(this.href));\" target=\"_blank\" title=\"마동석이 마동석을 넘다…'범죄도시2', '부산행' 제치고 역대 흥행 15위\">마동석이 마동석을 넘다…'<mark>범죄도시2</mark>', '부산행' 제치고 역대 흥행 15위</a>,\n",
              " <a class=\"sub_txt\" href=\"https://n.news.naver.com/mnews/article/469/0000681920?sid=106\" onclick=\"return goOtherCR(this, 'a=nws*c.nav&amp;r=5&amp;i=88156f75_000000000000000000681920&amp;u='+urlencode(this.href));\" target=\"_blank\">네이버뉴스</a>,\n",
              " <a class=\"elss sub_tit\" href=\"https://hankookilbo.com/News/Read/A2022062116150002307?did=NA\" onclick=\"return goOtherCR(this, 'a=nws*c.tit&amp;r=5&amp;i=88156f75_000000000000000000681920&amp;g=469.0000681920&amp;u='+urlencode(this.href));\" target=\"_blank\" title=\"'범죄도시2', '부산행' 제치며 역대 한국 영화 흥행 15위 등극\">'<mark>범죄도시2</mark>', '부산행' 제치며 역대 한국 영화 흥행 15위 등극</a>,\n",
              " <a class=\"news_more\" href=\"?where=news&amp;sm=tab_tnw&amp;query=%EB%B2%94%EC%A3%84%EB%8F%84%EC%8B%9C2&amp;sort=0&amp;photo=0&amp;field=0&amp;pd=0&amp;ds=&amp;de=&amp;mynews=0&amp;office_type=0&amp;office_section_code=0&amp;news_office_checked=&amp;related=1&amp;docid=0790003655944&amp;nso=so:r,p:all,a:all\" onclick=\"return goOtherCR(this, 'a=nws*r.more&amp;u='+urlencode(urlexpand(this.href)));\">관련뉴스 16건 전체보기<i class=\"spnew ico_arrow\"></i></a>,\n",
              " <a aria-pressed=\"false\" class=\"btn_save _keep_trigger\" data-url=\"http://star.mk.co.kr/new/view.php?mc=ST&amp;year=2022&amp;no=546562\" href=\"#\" onclick=\"tCR('a=nws*a.kep&amp;r=6&amp;i=880000BC_000000000000000004981332&amp;u=javascript'); return false;\" role=\"button\"><i class=\"spnew ico_save\">문서 저장하기</i></a>,\n",
              " <a class=\"spnew_af item item_save _keep_save\" data-cr-off=\"a=nws*a.kepoff&amp;r=6&amp;i=880000BC_000000000000000004981332&amp;u=javascript\" data-cr-on=\"a=nws*a.kepon&amp;r=6&amp;i=880000BC_000000000000000004981332&amp;u=javascript\" href=\"#\" role=\"button\">Keep에 저장</a>,\n",
              " <a class=\"spnew_af item item_quick\" href=\"https://keep.naver.com/\" onclick=\"return goOtherCR(this,'a=nws*a.kephome&amp;r=6&amp;i=880000BC_000000000000000004981332&amp;u='+urlencode(this.href));\" target=\"_blank\">Keep 바로가기</a>,\n",
              " <a class=\"info press\" href=\"http://www.mk.co.kr/\" onclick=\"return goOtherCR(this, 'a=nws*a.prof&amp;r=6&amp;i=880000BC_000000000000000004981332&amp;g=009.0004981332&amp;u='+urlencode(this.href));\" target=\"_blank\"><span class=\"thumb_box\"><img alt=\"\" class=\"thumb\" height=\"20\" onerror=\"this.src='data:image/gif;base64,R0lGODlhAQABAIAAAAAAAP///yH5BAEAAAAALAAAAAABAAEAAAIBRAA7';this.className='thumb bg_default_press'\" src=\"https://search.pstatic.net/common/?src=https%3A%2F%2Fmimgnews.pstatic.net%2Fimage%2Fupload%2Foffice_logo%2F009%2F2018%2F03%2F07%2Flogo_009_18_20180307164907.jpg&amp;type=f54_54&amp;expire=24&amp;refresh=true\" width=\"20\"/></span>매일경제</a>,\n",
              " <a class=\"info\" href=\"https://n.news.naver.com/mnews/article/009/0004981332?sid=106\" onclick=\"return goOtherCR(this, 'a=nws*a.nav&amp;r=6&amp;i=880000BC_000000000000000004981332&amp;u='+urlencode(this.href));\" target=\"_blank\">네이버뉴스</a>,\n",
              " <a class=\"news_tit\" href=\"http://star.mk.co.kr/new/view.php?mc=ST&amp;year=2022&amp;no=546562\" onclick=\"return goOtherCR(this, 'a=nws*a.tit&amp;r=6&amp;i=880000BC_000000000000000004981332&amp;g=009.0004981332&amp;u='+urlencode(this.href));\" target=\"_blank\" title=\"'범죄도시3' 빌런 이준혁 벌크업...마동석과 맞장 준비 중\">'<mark>범죄도시</mark>3' 빌런 이준혁 벌크업...마동석과 맞장 준비 중</a>,\n",
              " <a class=\"api_txt_lines dsc_txt_wrap\" href=\"http://star.mk.co.kr/new/view.php?mc=ST&amp;year=2022&amp;no=546562\" onclick=\"return goOtherCR(this, 'a=nws*a.body&amp;r=6&amp;i=880000BC_000000000000000004981332&amp;g=009.0004981332&amp;u='+urlencode(this.href));\" target=\"_blank\">'<mark>범죄도시</mark>3' 새 빌런 이준혁의 근황이 공개됐다. 이준혁은 최근 자신의 SNS를 통해 운동 삼매경에 빠져 한껏 몸을 키운 근황을 공개했다. 윤계상, 손석구에 이어 3대 빌런으로 낙점된 그는 마동석과 살벌하게 맞설 예정....</a>,\n",
              " <a class=\"dsc_thumb \" href=\"http://star.mk.co.kr/new/view.php?mc=ST&amp;year=2022&amp;no=546562\" onclick=\"return goOtherCR(this, 'a=nws*a.img&amp;r=6&amp;i=880000BC_000000000000000004981332&amp;g=009.0004981332&amp;u='+urlencode(this.href));\" target=\"_blank\"><img alt=\"‘범죄도시3‘ 빌런 이준\" class=\"thumb api_get\" height=\"90\" onerror=\"this.parentNode.style.display='none';\" src=\"https://search.pstatic.net/common/?src=https%3A%2F%2Fimgnews.pstatic.net%2Fimage%2Forigin%2F009%2F2022%2F06%2F22%2F4981332.jpg&amp;type=ff264_180&amp;expire=2&amp;refresh=true\" width=\"132\"/></a>,\n",
              " <a class=\"sub_txt\" href=\"https://n.news.naver.com/mnews/article/112/0003567796?sid=106\" onclick=\"return goOtherCR(this, 'a=nws*c.nav&amp;r=7&amp;i=88000110_000000000000000003567796&amp;u='+urlencode(this.href));\" target=\"_blank\">네이버뉴스</a>,\n",
              " <a class=\"elss sub_tit\" href=\"http://biz.heraldcorp.com/view.php?ud=202206221400107870306_1\" onclick=\"return goOtherCR(this, 'a=nws*c.tit&amp;r=7&amp;i=88000110_000000000000000003567796&amp;g=112.0003567796&amp;u='+urlencode(this.href));\" target=\"_blank\" title=\"[팝업★]'범죄도시3' 이준혁, 윤계상·손석구 이어 빌런 되더니..놀라운 벌크업 근황\">[팝업★]'<mark>범죄도시</mark>3' 이준혁, 윤계상·손석구 이어 빌런 되더니..놀라운 벌크...</a>,\n",
              " <a class=\"sub_txt\" href=\"https://n.news.naver.com/mnews/article/421/0006173545?sid=106\" onclick=\"return goOtherCR(this, 'a=nws*c.nav&amp;r=8&amp;i=08138263_000000000000000006173545&amp;u='+urlencode(this.href));\" target=\"_blank\">네이버뉴스</a>,\n",
              " <a class=\"elss sub_tit\" href=\"https://www.news1.kr/articles/?4719782\" onclick=\"return goOtherCR(this, 'a=nws*c.tit&amp;r=8&amp;i=08138263_000000000000000006173545&amp;g=421.0006173545&amp;u='+urlencode(this.href));\" target=\"_blank\" title=\"이준혁, '범죄도시3' 위해 '벌크업' 중…근육질 팔뚝 완성 [N샷]\">이준혁, '<mark>범죄도시</mark>3' 위해 '벌크업' 중…근육질 팔뚝 완성 [N샷]</a>,\n",
              " <a aria-pressed=\"false\" class=\"btn_save _keep_trigger\" data-url=\"http://biz.heraldcorp.com/view.php?ud=202206211259434355286_1\" href=\"#\" onclick=\"tCR('a=nws*a.kep&amp;r=9&amp;i=88000110_000000000000000003567450&amp;u=javascript'); return false;\" role=\"button\"><i class=\"spnew ico_save\">문서 저장하기</i></a>,\n",
              " <a class=\"spnew_af item item_save _keep_save\" data-cr-off=\"a=nws*a.kepoff&amp;r=9&amp;i=88000110_000000000000000003567450&amp;u=javascript\" data-cr-on=\"a=nws*a.kepon&amp;r=9&amp;i=88000110_000000000000000003567450&amp;u=javascript\" href=\"#\" role=\"button\">Keep에 저장</a>,\n",
              " <a class=\"spnew_af item item_quick\" href=\"https://keep.naver.com/\" onclick=\"return goOtherCR(this,'a=nws*a.kephome&amp;r=9&amp;i=88000110_000000000000000003567450&amp;u='+urlencode(this.href));\" target=\"_blank\">Keep 바로가기</a>,\n",
              " <a class=\"info press\" href=\"http://www.heraldpop.com/\" onclick=\"return goOtherCR(this, 'a=nws*a.prof&amp;r=9&amp;i=88000110_000000000000000003567450&amp;g=112.0003567450&amp;u='+urlencode(this.href));\" target=\"_blank\"><span class=\"thumb_box\"><img alt=\"\" class=\"thumb\" height=\"20\" onerror=\"this.src='data:image/gif;base64,R0lGODlhAQABAIAAAAAAAP///yH5BAEAAAAALAAAAAABAAEAAAIBRAA7';this.className='thumb bg_default_press'\" src=\"https://search.pstatic.net/common/?src=https%3A%2F%2Fmimgnews.pstatic.net%2Fimage%2Fupload%2Foffice_logo%2F112%2F2017%2F08%2F29%2Flogo_112_18_20170829145529.jpg&amp;type=f54_54&amp;expire=24&amp;refresh=true\" width=\"20\"/></span>헤럴드POP</a>,\n",
              " <a class=\"info\" href=\"https://n.news.naver.com/mnews/article/112/0003567450?sid=106\" onclick=\"return goOtherCR(this, 'a=nws*a.nav&amp;r=9&amp;i=88000110_000000000000000003567450&amp;u='+urlencode(this.href));\" target=\"_blank\">네이버뉴스</a>,\n",
              " <a class=\"news_tit\" href=\"http://biz.heraldcorp.com/view.php?ud=202206211259434355286_1\" onclick=\"return goOtherCR(this, 'a=nws*a.tit&amp;r=9&amp;i=88000110_000000000000000003567450&amp;g=112.0003567450&amp;u='+urlencode(this.href));\" target=\"_blank\" title=\"'범죄도시2'·'우블' 박지환 &quot;또 다른 감각 느끼도록 해야 장면 살아나&quot;[화보]\">'<mark>범죄도시2</mark>'·'우블' 박지환 \"또 다른 감각 느끼도록 해야 장면 살아나\"[화보...</a>,\n",
              " <a class=\"api_txt_lines dsc_txt_wrap\" href=\"http://biz.heraldcorp.com/view.php?ud=202206211259434355286_1\" onclick=\"return goOtherCR(this, 'a=nws*a.body&amp;r=9&amp;i=88000110_000000000000000003567450&amp;g=112.0003567450&amp;u='+urlencode(this.href));\" target=\"_blank\">촬영 후 이어진 인터뷰에서는 화제를 모은 두 작품 '<mark>범죄도시2</mark>'와 '우리들의 블루스' 소감을 전하고, 연기에 대한 철학을 진솔하게 전했다 . “어떻게든 뭔가가 생동해서 상대와 감독과 보는 이로 하여금 또 다른 감각을...</a>,\n",
              " <a class=\"dsc_thumb \" href=\"http://biz.heraldcorp.com/view.php?ud=202206211259434355286_1\" onclick=\"return goOtherCR(this, 'a=nws*a.img&amp;r=9&amp;i=88000110_000000000000000003567450&amp;g=112.0003567450&amp;u='+urlencode(this.href));\" target=\"_blank\"><img alt=\"‘범죄도시2‘·‘우블‘ \" class=\"thumb api_get\" height=\"90\" onerror=\"this.parentNode.style.display='none';\" src=\"https://search.pstatic.net/common/?src=https%3A%2F%2Fimgnews.pstatic.net%2Fimage%2Forigin%2F112%2F2022%2F06%2F21%2F3567450.jpg&amp;type=ff264_180&amp;expire=2&amp;refresh=true\" width=\"132\"/></a>,\n",
              " <a class=\"sub_txt\" href=\"https://n.news.naver.com/mnews/article/213/0001220365?sid=106\" onclick=\"return goOtherCR(this, 'a=nws*c.nav&amp;r=10&amp;i=880002E4_000000000000000001220365&amp;u='+urlencode(this.href));\" target=\"_blank\">네이버뉴스</a>,\n",
              " <a class=\"elss sub_tit\" href=\"https://www.tvreport.co.kr/2106789\" onclick=\"return goOtherCR(this, 'a=nws*c.tit&amp;r=10&amp;i=880002E4_000000000000000001220365&amp;g=213.0001220365&amp;u='+urlencode(this.href));\" target=\"_blank\" title=\"박지환, ‘우블’·‘범죄도시2’로 연타석 홈런... “내 계획이 부서지는 게 좋아”\">박지환, ‘우블’·‘<mark>범죄도시2</mark>’로 연타석 홈런... “내 계획이 부서지는 게...</a>,\n",
              " <a aria-pressed=\"false\" class=\"btn_save _keep_trigger\" data-url=\"http://news.heraldcorp.com/view.php?ud=20220621000826\" href=\"#\" onclick=\"tCR('a=nws*j.kep&amp;r=11&amp;i=8800010E_000000000000000002005811&amp;u=javascript'); return false;\" role=\"button\"><i class=\"spnew ico_save\">문서 저장하기</i></a>,\n",
              " <a class=\"spnew_af item item_save _keep_save\" data-cr-off=\"a=nws*j.kepoff&amp;r=11&amp;i=8800010E_000000000000000002005811&amp;u=javascript\" data-cr-on=\"a=nws*j.kepon&amp;r=11&amp;i=8800010E_000000000000000002005811&amp;u=javascript\" href=\"#\" role=\"button\">Keep에 저장</a>,\n",
              " <a class=\"spnew_af item item_quick\" href=\"https://keep.naver.com/\" onclick=\"return goOtherCR(this,'a=nws*j.kephome&amp;r=11&amp;i=8800010E_000000000000000002005811&amp;u='+urlencode(this.href));\" target=\"_blank\">Keep 바로가기</a>,\n",
              " <a class=\"info press\" href=\"http://www.heraldbiz.com/\" onclick=\"return goOtherCR(this, 'a=nws*j.prof&amp;r=11&amp;i=8800010E_000000000000000002005811&amp;g=016.0002005811&amp;u='+urlencode(this.href));\" target=\"_blank\"><span class=\"thumb_box\"><img alt=\"\" class=\"thumb\" height=\"20\" onerror=\"this.src='data:image/gif;base64,R0lGODlhAQABAIAAAAAAAP///yH5BAEAAAAALAAAAAABAAEAAAIBRAA7';this.className='thumb bg_default_press'\" src=\"https://search.pstatic.net/common/?src=https%3A%2F%2Fmimgnews.pstatic.net%2Fimage%2Fupload%2Foffice_logo%2F016%2F2017%2F01%2F05%2Flogo_016_18_20170105111205.png&amp;type=f54_54&amp;expire=24&amp;refresh=true\" width=\"20\"/></span>헤럴드경제<i class=\"spnew ico_pick\">언론사 선정</i></a>,\n",
              " <a class=\"info\" href=\"https://n.news.naver.com/mnews/article/016/0002005811?sid=103\" onclick=\"return goOtherCR(this, 'a=nws*j.nav&amp;r=11&amp;i=8800010E_000000000000000002005811&amp;u='+urlencode(this.href));\" target=\"_blank\">네이버뉴스</a>,\n",
              " <a class=\"news_tit\" href=\"http://news.heraldcorp.com/view.php?ud=20220621000826\" onclick=\"return goOtherCR(this, 'a=nws*j.tit&amp;r=11&amp;i=8800010E_000000000000000002005811&amp;g=016.0002005811&amp;u='+urlencode(this.href));\" target=\"_blank\" title=\"‘마녀2’·‘범죄도시2’ 보고 싶은데…주말 영화 1만5000원?\">‘마녀2’·‘<mark>범죄도시2</mark>’ 보고 싶은데…주말 영화 1만5000원?</a>,\n",
              " <a class=\"api_txt_lines dsc_txt_wrap\" href=\"http://news.heraldcorp.com/view.php?ud=20220621000826\" onclick=\"return goOtherCR(this, 'a=nws*j.body&amp;r=11&amp;i=8800010E_000000000000000002005811&amp;g=016.0002005811&amp;u='+urlencode(this.href));\" target=\"_blank\">멀티플렉스 메가박스가 영화관람료를 1000원 인상하기로 했다. 이에 따라 대형 멀티플렉스 3사의 관람료가 석 달 사이 모두 주말 성인 2D 기준 1만5000원으로 올랐다. 메가박스는 다음달 4일부터 일반관·컴포트관·MX관...</a>,\n",
              " <a class=\"dsc_thumb \" href=\"http://news.heraldcorp.com/view.php?ud=20220621000826\" onclick=\"return goOtherCR(this, 'a=nws*j.img&amp;r=11&amp;i=8800010E_000000000000000002005811&amp;g=016.0002005811&amp;u='+urlencode(this.href));\" target=\"_blank\"><img alt=\"‘마녀2’·‘범죄도시\" class=\"thumb api_get\" height=\"90\" onerror=\"this.parentNode.style.display='none';\" src=\"https://search.pstatic.net/common/?src=https%3A%2F%2Fimgnews.pstatic.net%2Fimage%2Forigin%2F016%2F2022%2F06%2F21%2F2005811.jpg&amp;type=ff264_180&amp;expire=2&amp;refresh=true\" width=\"132\"/></a>,\n",
              " <a aria-pressed=\"false\" class=\"btn_save _keep_trigger\" data-url=\"http://www.osen.co.kr/article/G1111877726\" href=\"#\" onclick=\"tCR('a=nws*a.kep&amp;r=12&amp;i=8800011B_000000000000000004642336&amp;u=javascript'); return false;\" role=\"button\"><i class=\"spnew ico_save\">문서 저장하기</i></a>,\n",
              " <a class=\"spnew_af item item_save _keep_save\" data-cr-off=\"a=nws*a.kepoff&amp;r=12&amp;i=8800011B_000000000000000004642336&amp;u=javascript\" data-cr-on=\"a=nws*a.kepon&amp;r=12&amp;i=8800011B_000000000000000004642336&amp;u=javascript\" href=\"#\" role=\"button\">Keep에 저장</a>,\n",
              " <a class=\"spnew_af item item_quick\" href=\"https://keep.naver.com/\" onclick=\"return goOtherCR(this,'a=nws*a.kephome&amp;r=12&amp;i=8800011B_000000000000000004642336&amp;u='+urlencode(this.href));\" target=\"_blank\">Keep 바로가기</a>,\n",
              " <a class=\"info press\" href=\"http://www.osen.co.kr\" onclick=\"return goOtherCR(this, 'a=nws*a.prof&amp;r=12&amp;i=8800011B_000000000000000004642336&amp;g=109.0004642336&amp;u='+urlencode(this.href));\" target=\"_blank\"><span class=\"thumb_box\"><img alt=\"\" class=\"thumb\" height=\"20\" onerror=\"this.src='data:image/gif;base64,R0lGODlhAQABAIAAAAAAAP///yH5BAEAAAAALAAAAAABAAEAAAIBRAA7';this.className='thumb bg_default_press'\" src=\"https://search.pstatic.net/common/?src=https%3A%2F%2Fmimgnews.pstatic.net%2Fimage%2Fupload%2Foffice_logo%2F109%2F2017%2F01%2F05%2Flogo_109_18_20170105111205.png&amp;type=f54_54&amp;expire=24&amp;refresh=true\" width=\"20\"/></span>OSEN</a>,\n",
              " <a class=\"info\" href=\"https://n.news.naver.com/mnews/article/109/0004642336?sid=106\" onclick=\"return goOtherCR(this, 'a=nws*a.nav&amp;r=12&amp;i=8800011B_000000000000000004642336&amp;u='+urlencode(this.href));\" target=\"_blank\">네이버뉴스</a>,\n",
              " <a class=\"news_tit\" href=\"http://www.osen.co.kr/article/G1111877726\" onclick=\"return goOtherCR(this, 'a=nws*a.tit&amp;r=12&amp;i=8800011B_000000000000000004642336&amp;g=109.0004642336&amp;u='+urlencode(this.href));\" target=\"_blank\" title=\"정재광, '범죄도시2'→'구필수는 없다' 영화 드라마 오가는 눈부신 활약\">정재광, '<mark>범죄도시2</mark>'→'구필수는 없다' 영화 드라마 오가는 눈부신 활약</a>,\n",
              " <a class=\"api_txt_lines dsc_txt_wrap\" href=\"http://www.osen.co.kr/article/G1111877726\" onclick=\"return goOtherCR(this, 'a=nws*a.body&amp;r=12&amp;i=8800011B_000000000000000004642336&amp;g=109.0004642336&amp;u='+urlencode(this.href));\" target=\"_blank\">정재광이 영화 ‘<mark>범죄도시2</mark>’(감독 이상용)와 드라마 ‘구필수는 없다’(극본 손근주·이해리·조지영, 연출 최도훈·육정용, 제작 캐빈74·오즈 아레나)를 통해 탄탄한 연기력으로 주목 받고 있다. 영화 ‘<mark>범죄도시2</mark>’...</a>,\n",
              " <a class=\"dsc_thumb \" href=\"http://www.osen.co.kr/article/G1111877726\" onclick=\"return goOtherCR(this, 'a=nws*a.img&amp;r=12&amp;i=8800011B_000000000000000004642336&amp;g=109.0004642336&amp;u='+urlencode(this.href));\" target=\"_blank\"><img alt=\"정재광, ‘범죄도시2‘→\" class=\"thumb api_get\" height=\"90\" onerror=\"this.parentNode.style.display='none';\" src=\"https://search.pstatic.net/common/?src=https%3A%2F%2Fimgnews.pstatic.net%2Fimage%2Forigin%2F109%2F2022%2F06%2F22%2F4642336.jpg&amp;type=ff264_180&amp;expire=2&amp;refresh=true\" width=\"132\"/></a>,\n",
              " <a class=\"sub_txt\" href=\"https://n.news.naver.com/mnews/article/311/0001465583?sid=106\" onclick=\"return goOtherCR(this, 'a=nws*c.nav&amp;r=13&amp;i=880005B6_000000000000000001465583&amp;u='+urlencode(this.href));\" target=\"_blank\">네이버뉴스</a>,\n",
              " <a class=\"elss sub_tit\" href=\"https://www.xportsnews.com/article/1593929\" onclick=\"return goOtherCR(this, 'a=nws*c.tit&amp;r=13&amp;i=880005B6_000000000000000001465583&amp;g=311.0001465583&amp;u='+urlencode(this.href));\" target=\"_blank\" title=\"정재광, '범죄도시2'→'구필수는 없다'…선악 넘나드는 연기 스펙트럼\">정재광, '<mark>범죄도시2</mark>'→'구필수는 없다'…선악 넘나드는 연기 스펙트럼</a>,\n",
              " <a aria-pressed=\"false\" class=\"btn_save _keep_trigger\" data-url=\"http://www.sportsseoul.com/news/read/1135276?ref=naver\" href=\"#\" onclick=\"tCR('a=nws*e.kep&amp;r=14&amp;i=88156f78_000000000000000000858466&amp;u=javascript'); return false;\" role=\"button\"><i class=\"spnew ico_save\">문서 저장하기</i></a>,\n",
              " <a class=\"spnew_af item item_save _keep_save\" data-cr-off=\"a=nws*e.kepoff&amp;r=14&amp;i=88156f78_000000000000000000858466&amp;u=javascript\" data-cr-on=\"a=nws*e.kepon&amp;r=14&amp;i=88156f78_000000000000000000858466&amp;u=javascript\" href=\"#\" role=\"button\">Keep에 저장</a>,\n",
              " <a class=\"spnew_af item item_quick\" href=\"https://keep.naver.com/\" onclick=\"return goOtherCR(this,'a=nws*e.kephome&amp;r=14&amp;i=88156f78_000000000000000000858466&amp;u='+urlencode(this.href));\" target=\"_blank\">Keep 바로가기</a>,\n",
              " <a class=\"info press\" href=\"http://www.sportsseoul.com/\" onclick=\"return goOtherCR(this, 'a=nws*e.prof&amp;r=14&amp;i=88156f78_000000000000000000858466&amp;g=468.0000858466&amp;u='+urlencode(this.href));\" target=\"_blank\"><span class=\"thumb_box\"><img alt=\"\" class=\"thumb\" height=\"20\" onerror=\"this.src='data:image/gif;base64,R0lGODlhAQABAIAAAAAAAP///yH5BAEAAAAALAAAAAABAAEAAAIBRAA7';this.className='thumb bg_default_press'\" src=\"https://search.pstatic.net/common/?src=https%3A%2F%2Fmimgnews.pstatic.net%2Fimage%2Fupload%2Foffice_logo%2F468%2F2020%2F12%2F08%2Flogo_468_18_20201208152603.png&amp;type=f54_54&amp;expire=24&amp;refresh=true\" width=\"20\"/></span>스포츠서울</a>,\n",
              " <a class=\"info\" href=\"https://n.news.naver.com/mnews/article/468/0000858466?sid=106\" onclick=\"return goOtherCR(this, 'a=nws*e.nav&amp;r=14&amp;i=88156f78_000000000000000000858466&amp;u='+urlencode(this.href));\" target=\"_blank\">네이버뉴스</a>,\n",
              " <a class=\"news_tit\" href=\"http://www.sportsseoul.com/news/read/1135276?ref=naver\" onclick=\"return goOtherCR(this, 'a=nws*e.tit&amp;r=14&amp;i=88156f78_000000000000000000858466&amp;g=468.0000858466&amp;u='+urlencode(this.href));\" target=\"_blank\" title=\"‘범죄도시2’, ‘부산행’ 뛰어넘었다...역대 흥행 순위 15위 [SS무비\">‘<mark>범죄도시2</mark>’, ‘부산행’ 뛰어넘었다...역대 흥행 순위 15위 [SS무비</a>,\n",
              " <a class=\"api_txt_lines dsc_txt_wrap\" href=\"http://www.sportsseoul.com/news/read/1135276?ref=naver\" onclick=\"return goOtherCR(this, 'a=nws*e.body&amp;r=14&amp;i=88156f78_000000000000000000858466&amp;g=468.0000858466&amp;u='+urlencode(this.href));\" target=\"_blank\">영화진흥위원회 영화관입장권 통합전산망에 따르면 ‘<mark>범죄도시 2</mark>’는 개봉 35일째인 21일, ‘부산행’(2016)의 최종 관객 수 11,565,479명을 뛰어넘었다. 더불어 14위인 ‘태극기 휘날리며’(2004)의 11,746,135명도...</a>,\n",
              " <a class=\"dsc_thumb \" href=\"http://www.sportsseoul.com/news/read/1135276?ref=naver\" onclick=\"return goOtherCR(this, 'a=nws*e.img&amp;r=14&amp;i=88156f78_000000000000000000858466&amp;g=468.0000858466&amp;u='+urlencode(this.href));\" target=\"_blank\"><img alt=\"‘범죄도시2’, ‘부산\" class=\"thumb api_get\" height=\"90\" onerror=\"this.parentNode.style.display='none';\" src=\"https://search.pstatic.net/common/?src=https%3A%2F%2Fimgnews.pstatic.net%2Fimage%2Forigin%2F468%2F2022%2F06%2F22%2F858466.jpg&amp;type=ff264_180&amp;expire=2&amp;refresh=true\" width=\"132\"/></a>,\n",
              " <a aria-pressed=\"false\" class=\"btn_save _keep_trigger\" data-url=\"http://www.wowtv.co.kr/NewsCenter/News/Read?articleId=A202206220226&amp;t=NN\" href=\"#\" onclick=\"tCR('a=nws*a.kep&amp;r=15&amp;i=88000149_000000000000000001038859&amp;u=javascript'); return false;\" role=\"button\"><i class=\"spnew ico_save\">문서 저장하기</i></a>,\n",
              " <a class=\"spnew_af item item_save _keep_save\" data-cr-off=\"a=nws*a.kepoff&amp;r=15&amp;i=88000149_000000000000000001038859&amp;u=javascript\" data-cr-on=\"a=nws*a.kepon&amp;r=15&amp;i=88000149_000000000000000001038859&amp;u=javascript\" href=\"#\" role=\"button\">Keep에 저장</a>,\n",
              " <a class=\"spnew_af item item_quick\" href=\"https://keep.naver.com/\" onclick=\"return goOtherCR(this,'a=nws*a.kephome&amp;r=15&amp;i=88000149_000000000000000001038859&amp;u='+urlencode(this.href));\" target=\"_blank\">Keep 바로가기</a>,\n",
              " <a class=\"info press\" href=\"http://www.wowtv.co.kr/\" onclick=\"return goOtherCR(this, 'a=nws*a.prof&amp;r=15&amp;i=88000149_000000000000000001038859&amp;g=215.0001038859&amp;u='+urlencode(this.href));\" target=\"_blank\"><span class=\"thumb_box\"><img alt=\"\" class=\"thumb\" height=\"20\" onerror=\"this.src='data:image/gif;base64,R0lGODlhAQABAIAAAAAAAP///yH5BAEAAAAALAAAAAABAAEAAAIBRAA7';this.className='thumb bg_default_press'\" src=\"https://search.pstatic.net/common/?src=https%3A%2F%2Fmimgnews.pstatic.net%2Fimage%2Fupload%2Foffice_logo%2F215%2F2018%2F09%2F18%2Flogo_215_18_20180918133718.png&amp;type=f54_54&amp;expire=24&amp;refresh=true\" width=\"20\"/></span>한국경제TV</a>,\n",
              " <a class=\"info\" href=\"https://n.news.naver.com/mnews/article/215/0001038859?sid=106\" onclick=\"return goOtherCR(this, 'a=nws*a.nav&amp;r=15&amp;i=88000149_000000000000000001038859&amp;u='+urlencode(this.href));\" target=\"_blank\">네이버뉴스</a>,\n",
              " <a class=\"news_tit\" href=\"http://www.wowtv.co.kr/NewsCenter/News/Read?articleId=A202206220226&amp;t=NN\" onclick=\"return goOtherCR(this, 'a=nws*a.tit&amp;r=15&amp;i=88000149_000000000000000001038859&amp;g=215.0001038859&amp;u='+urlencode(this.href));\" target=\"_blank\" title=\"‘범죄도시2’ 전진오, 전천후 멀티맨 대활약 빛났다\">‘<mark>범죄도시2</mark>’ 전진오, 전천후 멀티맨 대활약 빛났다</a>,\n",
              " <a class=\"api_txt_lines dsc_txt_wrap\" href=\"http://www.wowtv.co.kr/NewsCenter/News/Read?articleId=A202206220226&amp;t=NN\" onclick=\"return goOtherCR(this, 'a=nws*a.body&amp;r=15&amp;i=88000149_000000000000000001038859&amp;g=215.0001038859&amp;u='+urlencode(this.href));\" target=\"_blank\">영화 ‘<mark>범죄도시2</mark>’에서 숨은 주역으로 맹활약, 역대급 신스틸러로 관객들에게 웃음을 제대로 선사하며... 뿐만 아니라 드라마 ‘아스달 연대기’, ‘낭만닥터 김사부 2’, ‘경이로운 소문’, ‘크라임퍼즐’과 영화...</a>,\n",
              " <a class=\"dsc_thumb \" href=\"http://www.wowtv.co.kr/NewsCenter/News/Read?articleId=A202206220226&amp;t=NN\" onclick=\"return goOtherCR(this, 'a=nws*a.img&amp;r=15&amp;i=88000149_000000000000000001038859&amp;g=215.0001038859&amp;u='+urlencode(this.href));\" target=\"_blank\"><img alt=\"‘범죄도시2’ 전진오\" class=\"thumb api_get\" height=\"90\" onerror=\"this.parentNode.style.display='none';\" src=\"https://search.pstatic.net/common/?src=https%3A%2F%2Fimgnews.pstatic.net%2Fimage%2Forigin%2F215%2F2022%2F06%2F22%2F1038859.jpg&amp;type=ff264_180&amp;expire=2&amp;refresh=true\" width=\"132\"/></a>,\n",
              " <a class=\"elss sub_tit\" href=\"https://www.gukjenews.com/news/articleView.html?idxno=2493074\" onclick=\"return goOtherCR(this, 'a=nws*d.tit&amp;r=16&amp;i=8813C2D5_000000000000000001581472&amp;g=5291.0001581472&amp;u='+urlencode(this.href));\" target=\"_blank\" title=\"영화 '범죄도시2' 전진오, 천만 흥행 이끈 숨은 주역! '2대 진실의 방 주인공'\">영화 '<mark>범죄도시2</mark>' 전진오, 천만 흥행 이끈 숨은 주역! '2대 진실의 방 주인공...</a>,\n",
              " <a aria-pressed=\"false\" class=\"btn_save _keep_trigger\" data-url=\"https://www.news1.kr/articles/?4719030\" href=\"#\" onclick=\"tCR('a=nws*e.kep&amp;r=17&amp;i=08138263_000000000000000006171804&amp;u=javascript'); return false;\" role=\"button\"><i class=\"spnew ico_save\">문서 저장하기</i></a>,\n",
              " <a class=\"spnew_af item item_save _keep_save\" data-cr-off=\"a=nws*e.kepoff&amp;r=17&amp;i=08138263_000000000000000006171804&amp;u=javascript\" data-cr-on=\"a=nws*e.kepon&amp;r=17&amp;i=08138263_000000000000000006171804&amp;u=javascript\" href=\"#\" role=\"button\">Keep에 저장</a>,\n",
              " <a class=\"spnew_af item item_quick\" href=\"https://keep.naver.com/\" onclick=\"return goOtherCR(this,'a=nws*e.kephome&amp;r=17&amp;i=08138263_000000000000000006171804&amp;u='+urlencode(this.href));\" target=\"_blank\">Keep 바로가기</a>,\n",
              " <a class=\"info press\" href=\"http://news1.kr/\" onclick=\"return goOtherCR(this, 'a=nws*e.prof&amp;r=17&amp;i=08138263_000000000000000006171804&amp;g=421.0006171804&amp;u='+urlencode(this.href));\" target=\"_blank\"><span class=\"thumb_box\"><img alt=\"\" class=\"thumb\" height=\"20\" onerror=\"this.src='data:image/gif;base64,R0lGODlhAQABAIAAAAAAAP///yH5BAEAAAAALAAAAAABAAEAAAIBRAA7';this.className='thumb bg_default_press'\" src=\"https://search.pstatic.net/common/?src=https%3A%2F%2Fmimgnews.pstatic.net%2Fimage%2Fupload%2Foffice_logo%2F421%2F2017%2F01%2F05%2Flogo_421_18_20170105111205.png&amp;type=f54_54&amp;expire=24&amp;refresh=true\" width=\"20\"/></span>뉴스1</a>,\n",
              " <a class=\"info\" href=\"https://n.news.naver.com/mnews/article/421/0006171804?sid=106\" onclick=\"return goOtherCR(this, 'a=nws*e.nav&amp;r=17&amp;i=08138263_000000000000000006171804&amp;u='+urlencode(this.href));\" target=\"_blank\">네이버뉴스</a>,\n",
              " <a class=\"news_tit\" href=\"https://www.news1.kr/articles/?4719030\" onclick=\"return goOtherCR(this, 'a=nws*e.tit&amp;r=17&amp;i=08138263_000000000000000006171804&amp;g=421.0006171804&amp;u='+urlencode(this.href));\" target=\"_blank\" title=\"'마녀 2', 168만↑ 1위…역대 19위 '부산행' 꺾은 '범죄도시2' [Nbox]\">'마녀 2', 168만↑ 1위…역대 19위 '부산행' 꺾은 '<mark>범죄도시2</mark>' [Nbox]</a>,\n",
              " <a class=\"api_txt_lines dsc_txt_wrap\" href=\"https://www.news1.kr/articles/?4719030\" onclick=\"return goOtherCR(this, 'a=nws*e.body&amp;r=17&amp;i=08138263_000000000000000006171804&amp;g=421.0006171804&amp;u='+urlencode(this.href));\" target=\"_blank\">지난 15일에 개봉한 '마녀 2'는 개봉 6일째 168만명 이상의 관객을 동원하며 선전하고 있다. 이어 '<mark>범죄도시2</mark>'가 같은 날 7만3876명을 동원해 2위를 차지했다. 이로써 '<mark>범죄도시2</mark>'는 누적관객수 1161만3705명을 기록...</a>,\n",
              " <a class=\"dsc_thumb \" href=\"https://www.news1.kr/articles/?4719030\" onclick=\"return goOtherCR(this, 'a=nws*e.img&amp;r=17&amp;i=08138263_000000000000000006171804&amp;g=421.0006171804&amp;u='+urlencode(this.href));\" target=\"_blank\"><img alt=\"‘마녀 2‘, 168만↑ 1위\" class=\"thumb api_get\" height=\"90\" onerror=\"this.parentNode.style.display='none';\" src=\"https://search.pstatic.net/common/?src=https%3A%2F%2Fimgnews.pstatic.net%2Fimage%2Forigin%2F421%2F2022%2F06%2F22%2F6171804.jpg&amp;type=ff264_180&amp;expire=2&amp;refresh=true\" width=\"132\"/></a>,\n",
              " <a aria-pressed=\"false\" class=\"btn_save _keep_trigger\" data-url=\"https://news.jtbc.joins.com/article/article.aspx?news_id=NB12063270\" href=\"#\" onclick=\"tCR('a=nws*a.kep&amp;r=18&amp;i=08138260_000000000000000000302835&amp;u=javascript'); return false;\" role=\"button\"><i class=\"spnew ico_save\">문서 저장하기</i></a>,\n",
              " <a class=\"spnew_af item item_save _keep_save\" data-cr-off=\"a=nws*a.kepoff&amp;r=18&amp;i=08138260_000000000000000000302835&amp;u=javascript\" data-cr-on=\"a=nws*a.kepon&amp;r=18&amp;i=08138260_000000000000000000302835&amp;u=javascript\" href=\"#\" role=\"button\">Keep에 저장</a>,\n",
              " <a class=\"spnew_af item item_quick\" href=\"https://keep.naver.com/\" onclick=\"return goOtherCR(this,'a=nws*a.kephome&amp;r=18&amp;i=08138260_000000000000000000302835&amp;u='+urlencode(this.href));\" target=\"_blank\">Keep 바로가기</a>,\n",
              " <a class=\"info press\" href=\"http://news.jtbc.joins.com/\" onclick=\"return goOtherCR(this, 'a=nws*a.prof&amp;r=18&amp;i=08138260_000000000000000000302835&amp;g=437.0000302835&amp;u='+urlencode(this.href));\" target=\"_blank\"><span class=\"thumb_box\"><img alt=\"\" class=\"thumb\" height=\"20\" onerror=\"this.src='data:image/gif;base64,R0lGODlhAQABAIAAAAAAAP///yH5BAEAAAAALAAAAAABAAEAAAIBRAA7';this.className='thumb bg_default_press'\" src=\"https://search.pstatic.net/common/?src=https%3A%2F%2Fmimgnews.pstatic.net%2Fimage%2Fupload%2Foffice_logo%2F437%2F2017%2F01%2F05%2Flogo_437_18_20170105111205.png&amp;type=f54_54&amp;expire=24&amp;refresh=true\" width=\"20\"/></span>JTBC</a>,\n",
              " <a class=\"info\" href=\"https://n.news.naver.com/mnews/article/437/0000302835?sid=106\" onclick=\"return goOtherCR(this, 'a=nws*a.nav&amp;r=18&amp;i=08138260_000000000000000000302835&amp;u='+urlencode(this.href));\" target=\"_blank\">네이버뉴스</a>,\n",
              " <a class=\"news_tit\" href=\"https://news.jtbc.joins.com/article/article.aspx?news_id=NB12063270\" onclick=\"return goOtherCR(this, 'a=nws*a.tit&amp;r=18&amp;i=08138260_000000000000000000302835&amp;g=437.0000302835&amp;u='+urlencode(this.href));\" target=\"_blank\" title=\"마동석 넘는 마동석…'범죄도시2' 오늘(21일) '부산행' 기록 깬다\">마동석 넘는 마동석…'<mark>범죄도시2</mark>' 오늘(21일) '부산행' 기록 깬다</a>,\n",
              " <a class=\"api_txt_lines dsc_txt_wrap\" href=\"https://news.jtbc.joins.com/article/article.aspx?news_id=NB12063270\" onclick=\"return goOtherCR(this, 'a=nws*a.body&amp;r=18&amp;i=08138260_000000000000000000302835&amp;g=437.0000302835&amp;u='+urlencode(this.href));\" target=\"_blank\">'<mark>범죄도시2</mark>'가 '부산행'의 기록도 넘어선다. 21일 영화관입장권 통합전산망에 따르면 영화 '<mark>범죄도시2</mark>(이상용 감독)'는 지난 20일 7만9532명을 동원해 '마녀2(박훈정 감독)'에 이어 박스오피스 2위에 올랐다. 누적...</a>,\n",
              " <a class=\"dsc_thumb \" href=\"https://news.jtbc.joins.com/article/article.aspx?news_id=NB12063270\" onclick=\"return goOtherCR(this, 'a=nws*a.img&amp;r=18&amp;i=08138260_000000000000000000302835&amp;g=437.0000302835&amp;u='+urlencode(this.href));\" target=\"_blank\"><img alt=\"마동석 넘는 마동석…\" class=\"thumb api_get\" height=\"90\" onerror=\"this.parentNode.style.display='none';\" src=\"https://search.pstatic.net/common/?src=https%3A%2F%2Fimgnews.pstatic.net%2Fimage%2Forigin%2F437%2F2022%2F06%2F21%2F302835.jpg&amp;type=ff264_180&amp;expire=2&amp;refresh=true\" width=\"132\"/></a>,\n",
              " <a class=\"sub_txt\" href=\"https://n.news.naver.com/mnews/article/109/0004641435?sid=106\" onclick=\"return goOtherCR(this, 'a=nws*c.nav&amp;r=19&amp;i=8800011B_000000000000000004641435&amp;u='+urlencode(this.href));\" target=\"_blank\">네이버뉴스</a>,\n",
              " <a class=\"elss sub_tit\" href=\"http://www.osen.co.kr/article/G1111876616\" onclick=\"return goOtherCR(this, 'a=nws*c.tit&amp;r=19&amp;i=8800011B_000000000000000004641435&amp;g=109.0004641435&amp;u='+urlencode(this.href));\" target=\"_blank\" title=\"&quot;마동석이 마동석 넘는다&quot;…'범죄도시2', 오늘(21일) '부산행' 기록 깬다[종합]\">\"마동석이 마동석 넘는다\"…'<mark>범죄도시2</mark>', 오늘(21일) '부산행' 기록 깬다[종합...</a>,\n",
              " <a aria-pressed=\"false\" class=\"btn_save _keep_trigger\" data-url=\"http://sports.khan.co.kr/news/sk_index.html?art_id=202206211038003&amp;sec_id=540401&amp;pt=nv\" href=\"#\" onclick=\"tCR('a=nws*e.kep&amp;r=20&amp;i=8800006D_000000000000000000821129&amp;u=javascript'); return false;\" role=\"button\"><i class=\"spnew ico_save\">문서 저장하기</i></a>,\n",
              " <a class=\"spnew_af item item_save _keep_save\" data-cr-off=\"a=nws*e.kepoff&amp;r=20&amp;i=8800006D_000000000000000000821129&amp;u=javascript\" data-cr-on=\"a=nws*e.kepon&amp;r=20&amp;i=8800006D_000000000000000000821129&amp;u=javascript\" href=\"#\" role=\"button\">Keep에 저장</a>,\n",
              " <a class=\"spnew_af item item_quick\" href=\"https://keep.naver.com/\" onclick=\"return goOtherCR(this,'a=nws*e.kephome&amp;r=20&amp;i=8800006D_000000000000000000821129&amp;u='+urlencode(this.href));\" target=\"_blank\">Keep 바로가기</a>,\n",
              " <a class=\"info press\" href=\"https://sports.khan.co.kr/\" onclick=\"return goOtherCR(this, 'a=nws*e.prof&amp;r=20&amp;i=8800006D_000000000000000000821129&amp;g=144.0000821129&amp;u='+urlencode(this.href));\" target=\"_blank\"><span class=\"thumb_box\"><img alt=\"\" class=\"thumb\" height=\"20\" onerror=\"this.src='data:image/gif;base64,R0lGODlhAQABAIAAAAAAAP///yH5BAEAAAAALAAAAAABAAEAAAIBRAA7';this.className='thumb bg_default_press'\" src=\"https://search.pstatic.net/common/?src=https%3A%2F%2Fmimgnews.pstatic.net%2Fimage%2Fupload%2Foffice_logo%2F144%2F2017%2F08%2F28%2Flogo_144_18_20170828172628.jpg&amp;type=f54_54&amp;expire=24&amp;refresh=true\" width=\"20\"/></span>스포츠경향</a>,\n",
              " <a class=\"info\" href=\"https://n.news.naver.com/mnews/article/144/0000821129?sid=106\" onclick=\"return goOtherCR(this, 'a=nws*e.nav&amp;r=20&amp;i=8800006D_000000000000000000821129&amp;u='+urlencode(this.href));\" target=\"_blank\">네이버뉴스</a>,\n",
              " <a class=\"news_tit\" href=\"http://sports.khan.co.kr/news/sk_index.html?art_id=202206211038003&amp;sec_id=540401&amp;pt=nv\" onclick=\"return goOtherCR(this, 'a=nws*e.tit&amp;r=20&amp;i=8800006D_000000000000000000821129&amp;g=144.0000821129&amp;u='+urlencode(this.href));\" target=\"_blank\" title=\"‘탑건: 매버릭’ 사전예매량, ‘범죄도시2’ 넘었다\">‘탑건: 매버릭’ 사전예매량, ‘<mark>범죄도시2</mark>’ 넘었다</a>,\n",
              " <a class=\"api_txt_lines dsc_txt_wrap\" href=\"http://sports.khan.co.kr/news/sk_index.html?art_id=202206211038003&amp;sec_id=540401&amp;pt=nv\" onclick=\"return goOtherCR(this, 'a=nws*e.body&amp;r=20&amp;i=8800006D_000000000000000000821129&amp;g=144.0000821129&amp;u='+urlencode(this.href));\" target=\"_blank\">영화 ‘탑건: 매버릭’(감독 조셉 코신스키) 사전예매량이 엔데믹 시대 최초 천만 영화 ‘<mark>범죄도시2</mark>’ 동시기 사전예매량(19만2748장) 기록을 넘었다. 21일 영화진흥위원회 영화관입장권 통합전산망 실시간 예매율 기준...</a>,\n",
              " <a class=\"dsc_thumb \" href=\"http://sports.khan.co.kr/news/sk_index.html?art_id=202206211038003&amp;sec_id=540401&amp;pt=nv\" onclick=\"return goOtherCR(this, 'a=nws*e.img&amp;r=20&amp;i=8800006D_000000000000000000821129&amp;g=144.0000821129&amp;u='+urlencode(this.href));\" target=\"_blank\"><img alt=\"‘탑건: 매버릭’ 사전\" class=\"thumb api_get\" height=\"90\" onerror=\"this.parentNode.style.display='none';\" src=\"https://search.pstatic.net/common/?src=https%3A%2F%2Fimgnews.pstatic.net%2Fimage%2Forigin%2F144%2F2022%2F06%2F21%2F821129.jpg&amp;type=ff264_180&amp;expire=2&amp;refresh=true\" width=\"132\"/></a>,\n",
              " <a class=\"banner_nmessage\" href=\"https://help.naver.com/support/alias/news/news_21.naver\" onclick=\"return goOtherCR(this, 'a=nws.noti&amp;u='+urlencode(this.href));\" target=\"_blank\"> <div class=\"info\">뉴스 기사와 댓글로 인한 문제 발생시 <span class=\"txt\">24시간 센터로 접수해주세요.</span><i class=\"spnew api_ico_help\"></i></div> </a>,\n",
              " <a aria-disabled=\"true\" class=\"btn_prev\" role=\"button\"><i class=\"spnew ico_page_arr\">이전</i></a>,\n",
              " <a aria-pressed=\"true\" class=\"btn\" href=\"?where=news&amp;sm=tab_pge&amp;query=%EB%B2%94%EC%A3%84%EB%8F%84%EC%8B%9C2&amp;sort=0&amp;photo=0&amp;field=0&amp;pd=0&amp;ds=&amp;de=&amp;cluster_rank=20&amp;mynews=0&amp;office_type=0&amp;office_section_code=0&amp;news_office_checked=&amp;nso=so:r,p:all,a:all&amp;start=1\" onclick=\"return goOtherCR(this, 'a=nws.paging&amp;r=1&amp;u='+urlencode(urlexpand(this.href)));\" role=\"button\">1</a>,\n",
              " <a aria-pressed=\"false\" class=\"btn\" href=\"?where=news&amp;sm=tab_pge&amp;query=%EB%B2%94%EC%A3%84%EB%8F%84%EC%8B%9C2&amp;sort=0&amp;photo=0&amp;field=0&amp;pd=0&amp;ds=&amp;de=&amp;cluster_rank=20&amp;mynews=0&amp;office_type=0&amp;office_section_code=0&amp;news_office_checked=&amp;nso=so:r,p:all,a:all&amp;start=11\" onclick=\"return goOtherCR(this, 'a=nws.paging&amp;r=2&amp;u='+urlencode(urlexpand(this.href)));\" role=\"button\">2</a>,\n",
              " <a aria-pressed=\"false\" class=\"btn\" href=\"?where=news&amp;sm=tab_pge&amp;query=%EB%B2%94%EC%A3%84%EB%8F%84%EC%8B%9C2&amp;sort=0&amp;photo=0&amp;field=0&amp;pd=0&amp;ds=&amp;de=&amp;cluster_rank=20&amp;mynews=0&amp;office_type=0&amp;office_section_code=0&amp;news_office_checked=&amp;nso=so:r,p:all,a:all&amp;start=21\" onclick=\"return goOtherCR(this, 'a=nws.paging&amp;r=3&amp;u='+urlencode(urlexpand(this.href)));\" role=\"button\">3</a>,\n",
              " <a aria-pressed=\"false\" class=\"btn\" href=\"?where=news&amp;sm=tab_pge&amp;query=%EB%B2%94%EC%A3%84%EB%8F%84%EC%8B%9C2&amp;sort=0&amp;photo=0&amp;field=0&amp;pd=0&amp;ds=&amp;de=&amp;cluster_rank=20&amp;mynews=0&amp;office_type=0&amp;office_section_code=0&amp;news_office_checked=&amp;nso=so:r,p:all,a:all&amp;start=31\" onclick=\"return goOtherCR(this, 'a=nws.paging&amp;r=4&amp;u='+urlencode(urlexpand(this.href)));\" role=\"button\">4</a>,\n",
              " <a aria-pressed=\"false\" class=\"btn\" href=\"?where=news&amp;sm=tab_pge&amp;query=%EB%B2%94%EC%A3%84%EB%8F%84%EC%8B%9C2&amp;sort=0&amp;photo=0&amp;field=0&amp;pd=0&amp;ds=&amp;de=&amp;cluster_rank=20&amp;mynews=0&amp;office_type=0&amp;office_section_code=0&amp;news_office_checked=&amp;nso=so:r,p:all,a:all&amp;start=41\" onclick=\"return goOtherCR(this, 'a=nws.paging&amp;r=5&amp;u='+urlencode(urlexpand(this.href)));\" role=\"button\">5</a>,\n",
              " <a aria-pressed=\"false\" class=\"btn\" href=\"?where=news&amp;sm=tab_pge&amp;query=%EB%B2%94%EC%A3%84%EB%8F%84%EC%8B%9C2&amp;sort=0&amp;photo=0&amp;field=0&amp;pd=0&amp;ds=&amp;de=&amp;cluster_rank=20&amp;mynews=0&amp;office_type=0&amp;office_section_code=0&amp;news_office_checked=&amp;nso=so:r,p:all,a:all&amp;start=51\" onclick=\"return goOtherCR(this, 'a=nws.paging&amp;r=6&amp;u='+urlencode(urlexpand(this.href)));\" role=\"button\">6</a>,\n",
              " <a aria-pressed=\"false\" class=\"btn\" href=\"?where=news&amp;sm=tab_pge&amp;query=%EB%B2%94%EC%A3%84%EB%8F%84%EC%8B%9C2&amp;sort=0&amp;photo=0&amp;field=0&amp;pd=0&amp;ds=&amp;de=&amp;cluster_rank=20&amp;mynews=0&amp;office_type=0&amp;office_section_code=0&amp;news_office_checked=&amp;nso=so:r,p:all,a:all&amp;start=61\" onclick=\"return goOtherCR(this, 'a=nws.paging&amp;r=7&amp;u='+urlencode(urlexpand(this.href)));\" role=\"button\">7</a>,\n",
              " <a aria-pressed=\"false\" class=\"btn\" href=\"?where=news&amp;sm=tab_pge&amp;query=%EB%B2%94%EC%A3%84%EB%8F%84%EC%8B%9C2&amp;sort=0&amp;photo=0&amp;field=0&amp;pd=0&amp;ds=&amp;de=&amp;cluster_rank=20&amp;mynews=0&amp;office_type=0&amp;office_section_code=0&amp;news_office_checked=&amp;nso=so:r,p:all,a:all&amp;start=71\" onclick=\"return goOtherCR(this, 'a=nws.paging&amp;r=8&amp;u='+urlencode(urlexpand(this.href)));\" role=\"button\">8</a>,\n",
              " <a aria-pressed=\"false\" class=\"btn\" href=\"?where=news&amp;sm=tab_pge&amp;query=%EB%B2%94%EC%A3%84%EB%8F%84%EC%8B%9C2&amp;sort=0&amp;photo=0&amp;field=0&amp;pd=0&amp;ds=&amp;de=&amp;cluster_rank=20&amp;mynews=0&amp;office_type=0&amp;office_section_code=0&amp;news_office_checked=&amp;nso=so:r,p:all,a:all&amp;start=81\" onclick=\"return goOtherCR(this, 'a=nws.paging&amp;r=9&amp;u='+urlencode(urlexpand(this.href)));\" role=\"button\">9</a>,\n",
              " <a aria-pressed=\"false\" class=\"btn\" href=\"?where=news&amp;sm=tab_pge&amp;query=%EB%B2%94%EC%A3%84%EB%8F%84%EC%8B%9C2&amp;sort=0&amp;photo=0&amp;field=0&amp;pd=0&amp;ds=&amp;de=&amp;cluster_rank=20&amp;mynews=0&amp;office_type=0&amp;office_section_code=0&amp;news_office_checked=&amp;nso=so:r,p:all,a:all&amp;start=91\" onclick=\"return goOtherCR(this, 'a=nws.paging&amp;r=10&amp;u='+urlencode(urlexpand(this.href)));\" role=\"button\">10</a>,\n",
              " <a aria-disabled=\"false\" class=\"btn_next\" href=\"?where=news&amp;sm=tab_pge&amp;query=%EB%B2%94%EC%A3%84%EB%8F%84%EC%8B%9C2&amp;sort=0&amp;photo=0&amp;field=0&amp;pd=0&amp;ds=&amp;de=&amp;cluster_rank=20&amp;mynews=0&amp;office_type=0&amp;office_section_code=0&amp;news_office_checked=&amp;nso=so:r,p:all,a:all&amp;start=11\" onclick=\"return goOtherCR(this, 'a=nws.paging&amp;r=2&amp;u='+urlencode(urlexpand(this.href)));\" role=\"button\"><i class=\"spnew ico_page_arr\">다음</i></a>,\n",
              " <a class=\"api_link_help\" href=\"https://help.naver.com/support/alias/search/word/word_1.naver\" onclick=\"return goOtherCR(this, 'a=rsk_top.guide&amp;r=&amp;i=&amp;u='+urlencode(urlexpand(this.href)));\" target=\"_blank\"><i class=\"spnew api_ico_help\">도움말</i></a>,\n",
              " <a class=\"btn_report\" href=\"https://help.naver.com/support/alias/search/word/word_2.naver\" onclick=\"return goOtherCR(this, 'a=rsk_top.report&amp;r=&amp;i=&amp;u='+urlencode(urlexpand(this.href)));\" target=\"_blank\"><span class=\"txt\">신고</span></a>,\n",
              " <a class=\"btn_close _close\" href=\"#\" onclick=\"return tCR('a=rsk_top.1fold&amp;r=1&amp;i=');\"><i class=\"spnew api_ico_close4\">검색어제안 기능 닫기</i></a>,\n",
              " <a class=\"keyword\" href=\"?where=news&amp;query=%EB%B2%94%EC%A3%84%EB%8F%84%EC%8B%9C2+%EC%B6%9C%EC%97%B0%EC%A7%84&amp;ie=utf8&amp;sm=tab_she&amp;qdt=0\" onclick=\"return goOtherCR(this, 'a=rsk_top*a.list1&amp;r=1&amp;u=' + urlencode(this.href))\"> <div class=\"tit\">범죄도시2 출연진</div> </a>,\n",
              " <a class=\"keyword\" href=\"?where=news&amp;query=%EB%B2%94%EC%A3%84%EB%8F%84%EC%8B%9C2+%EC%A0%95%EB%B3%B4&amp;ie=utf8&amp;sm=tab_she&amp;qdt=0\" onclick=\"return goOtherCR(this, 'a=rsk_top*a.list1&amp;r=2&amp;u=' + urlencode(this.href))\"> <div class=\"tit\">범죄도시2 정보</div> </a>,\n",
              " <a class=\"keyword\" href=\"?where=news&amp;query=%EB%B2%94%EC%A3%84%EB%8F%84%EC%8B%9C2+%ED%8F%89%EC%A0%90&amp;ie=utf8&amp;sm=tab_she&amp;qdt=0\" onclick=\"return goOtherCR(this, 'a=rsk_top*a.list1&amp;r=3&amp;u=' + urlencode(this.href))\"> <div class=\"tit\">범죄도시2 평점</div> </a>,\n",
              " <a class=\"keyword\" href=\"?where=news&amp;query=%EB%B2%94%EC%A3%84%EB%8F%84%EC%8B%9C2+%EC%BF%A0%ED%82%A4&amp;ie=utf8&amp;sm=tab_she&amp;qdt=0\" onclick=\"return goOtherCR(this, 'a=rsk_top*q.list1&amp;r=4&amp;u=' + urlencode(this.href))\"> <div class=\"tit\">범죄도시2 쿠키</div> </a>,\n",
              " <a class=\"keyword\" href=\"?where=news&amp;query=%EB%B2%94%EC%A3%84%EB%8F%84%EC%8B%9C2+%EB%93%B1%EC%9E%A5%EC%9D%B8%EB%AC%BC&amp;ie=utf8&amp;sm=tab_she&amp;qdt=0\" onclick=\"return goOtherCR(this, 'a=rsk_top*a.list1&amp;r=5&amp;u=' + urlencode(this.href))\"> <div class=\"tit\">범죄도시2 등장인물</div> </a>,\n",
              " <a class=\"keyword\" href=\"?where=news&amp;query=%EB%B2%94%EC%A3%84%EB%8F%84%EC%8B%9C2+%EC%BF%A0%ED%82%A4%EC%98%81%EC%83%81&amp;ie=utf8&amp;sm=tab_she&amp;qdt=0\" onclick=\"return goOtherCR(this, 'a=rsk_top*q.list1&amp;r=6&amp;u=' + urlencode(this.href))\"> <div class=\"tit\">범죄도시2 쿠키영상</div> </a>,\n",
              " <a class=\"keyword\" href=\"?where=news&amp;query=%EB%B2%94%EC%A3%84%EB%8F%84%EC%8B%9C2+%EB%AA%85%EB%8C%80%EC%82%AC&amp;ie=utf8&amp;sm=tab_she&amp;qdt=0\" onclick=\"return goOtherCR(this, 'a=rsk_top*a.list1&amp;r=7&amp;u=' + urlencode(this.href))\"> <div class=\"tit\">범죄도시2 명대사</div> </a>,\n",
              " <a class=\"keyword\" href=\"?where=news&amp;query=%EB%B2%94%EC%A3%84%EB%8F%84%EC%8B%9C2+%EB%AC%B4%EB%8C%80%EC%9D%B8%EC%82%AC&amp;ie=utf8&amp;sm=tab_she&amp;qdt=0\" onclick=\"return goOtherCR(this, 'a=rsk_top*q.list1&amp;r=8&amp;u=' + urlencode(this.href))\"> <div class=\"tit\">범죄도시2 무대인사</div> </a>,\n",
              " <a class=\"keyword\" href=\"?where=news&amp;query=%EC%98%81%ED%99%94+%EB%B2%94%EC%A3%84%EB%8F%84%EC%8B%9C2&amp;ie=utf8&amp;sm=tab_she&amp;qdt=0\" onclick=\"return goOtherCR(this, 'a=rsk_top*a.list1&amp;r=9&amp;u=' + urlencode(this.href))\"> <div class=\"tit\">영화 범죄도시2</div> </a>,\n",
              " <a class=\"keyword\" href=\"?where=news&amp;query=%EB%B2%94%EC%A3%84%EB%8F%84%EC%8B%9C2+%EC%98%88%EA%B3%A0%ED%8E%B8&amp;ie=utf8&amp;sm=tab_she&amp;qdt=0\" onclick=\"return goOtherCR(this, 'a=rsk_top*a.list1&amp;r=10&amp;u=' + urlencode(this.href))\"> <div class=\"tit\">범죄도시2 예고편</div> </a>,\n",
              " <a class=\"btn_more _more\" href=\"#\" onclick=\"return tCR('a=rsk_top.open');\" role=\"button\" style=\"display:none\"><i class=\"spnew api_ico_open\">더보기</i></a>,\n",
              " <a class=\"btn_open _open\" href=\"#\" onclick=\"return tCR('a=rsk_top.1unfold&amp;r=1&amp;i=');\">열기</a>,\n",
              " <a class=\"spnew_bf item\" href=\"https://m.news.naver.com/covid19/index.nhn\" onclick=\"return goOtherCR(this, 'a=bnr.link&amp;r=1&amp;i=&amp;u='+urlencode(this.href));\" target=\"_blank\"> <div class=\"ico_area\"><img alt=\"\" class=\"ico\" height=\"29\" src=\"data:image/png;base64,iVBORw0KGgoAAAANSUhEUgAAADoAAAA6CAMAAADWZboaAAAABGdBTUEAALGPC/xhBQAAAAFzUkdCAK7OHOkAAAD5UExURUdwTHqR+HyT+XeO91147Ft361147GyD8GN973WF5Ft261t27H2T+H2U+YCX++9vaulfWl137G2G8fFiV+tjXn2T+WyG8ZZ/y2yD8fNsZO9oaPRtZO9cUO9gUPz+//j7/1l06nSM9mB67Vt16/VuZF147H6V+nyT+XeO93mR+Pf5/4CX+3CI9PBdUvJjWPRrYfJmW2N97vBgVfv8//r7//NoXmaA8K2692mC8Zao98zV+4Wa87nF+r7K+uzw/vSKg/ny9bZ3ovavrPjW16Sy9ePp/neC5Ix9zNzj/ffDwdJugfR3b/np64ug9H2T8+JtcfWdmaB2tbtqjWudn9UAAAAedFJOUwDfjsjKjd4g/hCiX1+jz/v77nW0eu9Ah2BAIL5AIIvi+2QAAAPuSURBVEjH5dbpVuJMEAZgWUXAbUZn5ttIjAmQJgghYFbCvgs6c/8XM1XdnaQBt+/3vJijP3xOVXdXSE5O/vicltMXqdtGo5HKpMunn3dn6VSDp9qoVmu1VPpz+lsmdpAaSMz5x/j0XHAR1Gu6rn+Ev9wKJRmkTtfr9VT5PZkW2I4V3OnwUwcJSb+9PRcHneqsIod3d3eZs3dklUmM2w+CYKozB/IdexFB1qpdwVh2PSpJk3l9ndhntbbjW7MEV7EsD8tF0jDuvh/L8uFhBFRagcAMYz5Sb47OM8VXWAtI6NLjsKGuF1DmEhKgHF2q6uXfB/ScuZrehwUucWuqbmBZfZfSUOpKgbF4VjFfD4pySGVlVq+7S2JVsGHLA21ZkjRZqzx/HRfFLgnS/naJiK7Vkrqe70nDsRrnn4OiOssMaRiygphutyuF4XijChEPN80cjI07I4EAaVlpsmm1IgZ/rMUDSvEJx5mp+6Eou9LToKWyD83zwskL/e5Nm2exE2XdDsctFlpQvfzpQJL7r5xQOEOxXWml9lo9RlGO5o7z6Dz+SJYqjqmX9GpNBr1erxWXXS8AYnIxzXBY28G8JSWfBr12QmGRO+ORWieb7BKT00olMNyoXTjJHg/KzWhuEzKlRQvJPvFW4VAqvs3pSm1DYvoynBqEkBCh+Xi9R2G6cX+8GYWTQbud0N5gIpGlB5QAhBREivdFhY+e9fTyAIntZkXimIVCAa6Y3lJpoAwJLLIVQaTqeCghCmeUglMUJdkmg4ZAwZ272jx04qLth5cniUqyraMvmACFbcowCvfncrHuUMgtLpJT04TFBgpNcjhphI5huNNRhwYhXK2VxB0hfWh16zOpJCPxw2B2dBVBWhUXGVsfO8VL0TStlIw/MMdZPDc7nbjqwwAWGdckfV4PoaYJj5+U4czXTQiDQDcTCvFDM/VtV9G4zItPqfmo2Yxpp9Ma01alWLKeqdPu73PiM+OqySnFL0NJ4t1SOvPpmQZc3u89Lr82o3Q6cCBuXxIW6hkG/e0igxT3vhH/jate4oHYpt/nLvTgRHa0KHWyLB88o3nZq5GN5fo4435AiO07dGuWXAKUiwff/v/R1f6aF0y0LhxgwYbp8aZsfdrW51DOH70Y3DSb64UJt1RhZ9Pjt1nDNtsZ7iCl40fdzU+8EU2TjYyieHyP+N4Aojr32gM2yymfmimjrlhRlrOvvxBkYwdzo2lbGwJLlEX51stEVpxT2Bv856jk/XsSkuMFo60RW31rnVFKeU2Ae06+/vLBi14RO6XuQBY/8ZZY1I6dnP32uZfhXD7ZGTpAubP/8SpdymXRX+ezudLpyR+f3zNmQ/CrQLtdAAAAAElFTkSuQmCC\" width=\"29\"/></div> <div class=\"dsc_area\"> <strong class=\"elss tit\">코로나19</strong> <p class=\"elss dsc\">확진현황 및 백신·접종 정보</p> </div> </a>,\n",
              " <a class=\"spnew_bf item\" href=\"?where=nexearch&amp;query=%EC%8B%A0%EC%86%8D%ED%95%AD%EC%9B%90%EA%B2%80%EC%82%AC%EA%B8%B0%EA%B4%80&amp;sm=tab_etc\" onclick=\"return goOtherCR(this, 'a=bnr.link&amp;r=2&amp;i=&amp;u='+urlencode(this.href));\"> <div class=\"ico_area\"><img alt=\"\" class=\"ico\" height=\"29\" src=\"data:image/png;base64,iVBORw0KGgoAAAANSUhEUgAAADoAAAA6CAMAAADWZboaAAAABGdBTUEAALGPC/xhBQAAAAFzUkdCAK7OHOkAAAC0UExURUdwTG+H9mB87YOd94ei+Fl06FFs5Flz6X2X9I6q+E1o4ZKs91Fr4nOL+FRu5WJ771Vv5myF8GuE7JKs9lx363OL+WuE9GB67HCK90tn4FBq45Kt92F67Vdx52yF9XCI9nOL+Fp06VRu5mB67WqD82aA8WJ77lFs5Fx262R98P///09q405o4lNt5WiB8l547Exn4ZGr+Iyo+ZSu95ew9sTO+K269tje+5mp85+v9XqS7u3w/aF8NAkAAAAddFJOUwC9ECBkIFz+QYXc6oLfvoPuz/y/L4ef3++uf8+uS4QCXwAAAqhJREFUSMfNlul2okAQhSOiDRrHJW4xYXVBEEENRqPv/17Tq3Rrt8CcM+ekYgx/vtyq21VFv7z8qjBGtc7Usaf9Wteowg1HU8dxbMe2F4tFkkzGjZJgvea6roNYhCbJMlmG5WB9eiOx5hJGuFp1C0ENSfKaEA1DiM4/tYJkOwK5yMl5OmkUk66guSTkPE0nz3T7Ask0iWi6Xv9RkyP3oVAMUnLtKb2qu4+FLgmJUQ+AoQJVmUtFPc8DipQNKmo7XKG5JkSBZcm7cizJNuRIAElLKqs9mGsfv2m2KdW0/J6myFfsv2MUfd/MpajflJ/MnUUIRekS0kLhb1+l/t73H0ZZtgCT/rYlQTsPnUtRZi4mfRkqFooOFKHMXIBAfxsEgQQlmmS4nR8Upyg6nlEMALFouw02GxW6IBZdIyFOFiODQIZ2uC66Q68WSReicU82cJxF5xMK+A+u6O/xTESRZixrp7G4FmAvIJu83FxMxu+ydcYKxXMG0ZSgIC90A1FZN2l345ISlJrrB5jcxdIFVRO3GEFBni7S3MkH1mBbLKTTglHuWGKINhVbgo3oinTuTxSdQV4nTHfXUr2iEqZJm/5wAXm2iFSJQlm2xQgJPIu3CKLvymXaGOQ7Fw/arekJ2Xqy/5vc5uRPlJDqdFF0eVFL1NzNnr+vPpkmAIA/0KeF0p7qz7mNQjuXFKoVvWAbE54sZ9GN7XGalUh4Cekxc3OyNyx58QH8iG4Kj0U43nuLmuUvTjOx0FmVS9fM5060EonYf9PELBvuymTd6BPRvlGvcis139pZlg0QeYEP7Tez3O1U/8hoDOLdgD239WLS/IKRwQ/8vVzwM/7JzEJ0v/9CH/zFnslTser+IQ742yxRa/sgiQ+9tMM8Vtphdq66bsLQ9Urn+t/jL7+i3b0O8lH+AAAAAElFTkSuQmCC\" width=\"29\"/></div> <div class=\"dsc_area\"> <strong class=\"elss tit\">신속항원검사</strong> <p class=\"elss dsc\">내 주변 검사기관 찾기</p> </div> </a>,\n",
              " <a class=\"spnew_bf item\" href=\"https://news.naver.com/main/factcheck/main.nhn?section=%C4%DA%B7%CE%B3%AA%B9%E9%BD%C5\" onclick=\"return goOtherCR(this, 'a=bnr.link&amp;r=3&amp;i=&amp;u='+urlencode(this.href));\" target=\"_blank\"> <div class=\"ico_area\"><img alt=\"\" class=\"ico\" height=\"29\" src=\"data:image/png;base64,iVBORw0KGgoAAAANSUhEUgAAADoAAAA6CAMAAADWZboaAAAABGdBTUEAALGPC/xhBQAAAAFzUkdCAK7OHOkAAAEgUExURUdwTHaN9d3d5dra5WiB7nWL9GuI72p/7uHh6dXV4HmQ9lVw5WB560tm4e/v+NHR3u3t9myE8Etn4dPT4Nzc51t16Ozu9uvr9NHR3ERg3WyE7+Hh69vb5/Ly+s/P3HuR9eLj7e/v9+jp8tnZ5Nrb5m6G8VZw5uPk7ejp8mqC7+Xl71lz59/f6Ulk4Fx16UVh3urr83KJ89fX4t3d59XV4ezs9VFr5HWM9eHi7Gd/7u7v99DQ3VNu5PDx+ebn8NLS3k1o4k9p41536mB560tm4UJe3WN77P7kUtTU32V97XmQ9jtX2T9b28jM5VNq0EBazWF21XeJ0/TdXOrXZNnLdG6D3Upiz8W+jL+4iYGOwZqgsbq2lauroY6ayIaV25um3nm/uWMAAAAjdFJOUwDMEGJkjRAgIJHijM/+j8/Lt6m53t+kb9/eQOY/3u+gxt3tTsmu+gAAA0pJREFUSMfl1llb2kAUBmAVrEZ4VNytS7WJUDaXhB2pgOgUIZAEcG/7//9Fz5mZJBMShF77YeIN7zNzcsjMzM19+iyFI9Ht9HWhdrS+urs8u/sS2b5tnqfjcaA0R6uz6a+x9v1900NrtcrOdLwUS5bb9zhoGmShVkFHMw2Hz5I2xUEbFSGnoY/k4hmn536ar+RXJz+e+SsmnVLrjDhZX5gsnfkCvb5u1PMizF9eTrDzRYHSp4TUUSzrgXUWr0Qat+mlJz8C6g0XGcVSHdpyCYbed339XKFULLVQqLdsxSjN9/H+fnsoBpTacslPvGh2xgYFSWnZU2qWERvxHPoHHSu1AdRDUuwvdeId1Dtfu1SHpjDsnkolxOYuPgSXmqXj2IS5VCIhPuQVoAFdbWUFgobnYHy+rDUCbXGaEFLCq+T2JyxQkE2Yb5yWmk14WAlkCRMKKvV1aJHh84jPN+sqTyT3h89bczYaEpqByegFG+avqSBQRn8ymVIJrhPhKfGuPhHrfdR8GRDLgFKzSDGPfQOsYvR74DBbDrXn+5tY5i2uEEPyTge9oDKjg9V1o/+oM5k58NE38sS6+kIGNs3gB2yvx6WmaRlNpHy+r/wHQQijfJSM3uv3e7qGEK1L7RfujbyzrprEwq5yqjmUuSAKtY7oYvhMnulTumPDoIQJo8Uo2pawKvGuDqEt52njjRCDzveOfRelTm+aoihwbfqXJXNAiAUXeW2IFJGioFVoNElYl/i72jafLIDDF9ZVRhXFNHQUumHgP1mW3R/ikrgsmaaBi3cdS72D2Wk4RZkRvDDC8rQS9K5eIGWRFUepqqxuia960LsKtEvH4gyMqtKbJO4ZdL4BlBuZKuYgnuU0xge9ZZsNfVdhvl3Z+TpNTs3lcrLk3coDS+12PQoc0tzYGh6bQhnCqNL4xpFMtj2LN6POSDS/8LPnOxiEy2VhX+Wldlxh5ybgWLDo7yqlAkMpBW2wUV9ruh0R0awFHwiiEyljN9Xq2qTDRJQfXJxSO1xVqZssIZG0vU9xygejrlqVPjxybXvm27ER5jg05aC34Xa1A9TN5gynxI0Gn29XoJuHsx2GI/usqzbdkxb+6yi9sQ/0eG9NCi3Pffr8A1MBnr4iV9l7AAAAAElFTkSuQmCC\" width=\"29\"/></div> <div class=\"dsc_area\"> <strong class=\"elss tit\">코로나19 팩트체크</strong> <p class=\"elss dsc\">코로나백신 결과 보기</p> </div> </a>,\n",
              " <a class=\"spnew_bf item\" href=\"?where=nexearch&amp;query=%EC%9A%B0%EB%A6%AC%EB%8F%99%EB%84%A4+%EC%9E%94%EC%97%AC%EB%B0%B1%EC%8B%A0%EC%98%88%EC%95%BD&amp;sm=tab_etc\" onclick=\"return goOtherCR(this, 'a=bnr.link&amp;r=4&amp;i=&amp;u='+urlencode(this.href));\"> <div class=\"ico_area\"><img alt=\"\" class=\"ico\" height=\"29\" src=\"data:image/png;base64,iVBORw0KGgoAAAANSUhEUgAAADoAAAA6CAMAAADWZboaAAAABGdBTUEAALGPC/xhBQAAAAFzUkdCAK7OHOkAAAE4UExURUdwTLe4x3p6gHd3d3d3f0tm42RkbJup705m43R0fHNze3Bwd4mJkr6+zGmC8W6F83x8g5iYonx8goaMrnOL9lRu6HeO9r+/y+bo8ebo83FxeHV1fHiP+Vx261l06nBweG5udmyE8XmQ+JycqGxsdnBweWZ/756epqKx8XaO9XR0fujo83uR96qstG96s3mQ+IGBiWB67VJt51137GmB8U5q5W1tdFVw6GyE8nBweGN87nKK9Upl41hy6eXm8Fp0693e6eHi7dLT38fH1M7O22Z/8HeO92+H9IODi8rK13Jye2BgZ9bW4mVlbGlpccDAzsTE0dna5YmJkn19hnl5gezZZYCR3f7kUpmZoqWotOHRcZKSnHV1ferXZp+fqKGu7W2C5HeK23NzfJWi5ImX3sG8lXaL6Wx9yucL4lIAAAAxdFJOUwAvYBAw74AQMJ9/757vac/unyABz+nv7s/P1LTPnohvQEjfb1CO3t/PoH/PoO/fj97EJL62AAACrUlEQVRIx93WeVPaQBgG8EVoMKK0mHoUPHvfLXIGVBAhYLivGCECAtbv/w367maTQKckK53pTLv/ZYbfPA/vbg6E/ut1FAquLSc3faIoM1tX4NVMaBzomNG63w3UgHXlI/YjixQ2B6raXzcvPb54nDVXCKj9fsu0XC3O3lkI9Fstw3I1oNiyzcr7pWVYrlqt1WjuIYN8cX4DtASWK1ct63M7yt3z8wuwpdI6V8a0SjuLbhZ5cXFTgqWVqeVgzuIb57Ygs9ksseMywRycqsPXTBJoswm2XZKx5Zhm+8mQ2WZlALYts8pdKiG0UskNgLZFNvme/s8mkWCBtnkW+TQ6tDIruVwur7JZkNHCcEbm8/krtd3pdHhHmYwWCqmhUZfIqyu142hBEhoe6pDKy0tsNd5WFjFNpcKRSRPLHJWNRr+jaTbW+7xY1EPDkcyEyjyRjXpf08Yyv1CmbxSdRiKZs8lMZqNe3wiNx7K8uVBedxW9L9DExJT1en3HJfCyHHQvkOkfvevbOxp6lkhMrcwdF/xkhff8Vu5J6XSRWIOexKYgL/VMmycRkcUksXpfoLHpTOai9U267yl4Z0ZgR5EM0BOgp1OcuWEn/ZLUgxEl4RCOet07IzR2eqo4ZKKXkjTtkvHCfEf6P8WhsBS7TEE4liQprWBbMOdr0Ce2meizhIek3OLx0k015ar9/bJHKLb3mGYs6iTRNqHJpHKvzPd1lEDJppIhWZvKImHAJJRSM5RBog8GTVmHMBZjkciv97VuGhzKJAXvttE3bPZlkvCp8LU41/cRMhh/+KUvo0Q8vDdHc323GCVaE+Gl+2CFJpglWhHB8v639BBuHXiZpewLifgxueo/2N/3H7N//61oPg/y0NtPQMIjZOeZZ7lvzj+Q7b8v0felJfIsLf+p9RPTRPuryux+OAAAAABJRU5ErkJggg==\" width=\"29\"/></div> <div class=\"dsc_area\"> <strong class=\"elss tit\">잔여백신예약</strong> <p class=\"elss dsc\">내 주변 잔여백신 찾기</p> </div> </a>,\n",
              " <a class=\"top\" href=\"#\" onclick=\"window.scrollTo(0,0); document.querySelector('#wrap a').focus(); return false;\"><i class=\"spnew ico_top\">맨위로</i></a>,\n",
              " <a class=\"link\" href=\"https://www.naver.com/more.html\" onclick=\"return goOtherCR(this, 'u='+urlencode(this.href)+'&amp;a=fot.sitemap&amp;r=&amp;i=');\" target=\"_blank\">전체서비스</a>,\n",
              " <a class=\"link\" href=\"https://policy.naver.com/policy/service.html\" onclick=\"return goOtherCR(this, 'u='+urlencode(this.href)+'&amp;a=fot.policy&amp;r=&amp;i=');\" target=\"_blank\">이용약관</a>,\n",
              " <a class=\"link\" href=\"https://policy.naver.com/policy/privacy.html\" onclick=\"return goOtherCR(this, 'u='+urlencode(this.href)+'&amp;a=fot.privacy&amp;r=&amp;i=');\" target=\"_blank\"><strong>개인정보처리방침</strong></a>,\n",
              " <a class=\"link\" href=\"https://help.naver.com/support/alias/search/integration/integration_1.naver\" onclick=\"return goOtherCR(this, 'u='+urlencode(this.href)+'&amp;a=fot.help&amp;r=&amp;i=');\" target=\"_blank\">통합검색 고객센터</a>,\n",
              " <a class=\"link\" href=\"https://www.navercorp.com/\" onclick=\"return goOtherCR(this, 'u='+urlencode(this.href)+'&amp;a=fot.nhn&amp;r=&amp;i=');\" target=\"_blank\"><i class=\"ico_footer_logo\">© NAVER Corp.</i></a>]"
            ]
          },
          "metadata": {},
          "execution_count": 4
        }
      ]
    },
    {
      "cell_type": "code",
      "source": [
        "for link in soup.find_all('a'): #<a> 태그의 href 속성(링크된 페이지의 URL 명시)을 출력하는 구문\n",
        "    print(link.get('href'))"
      ],
      "metadata": {
        "colab": {
          "base_uri": "https://localhost:8080/"
        },
        "id": "1yelBRbuzOJb",
        "outputId": "9ab8b592-a7d2-4c3d-f5b9-f1dd7710a76a"
      },
      "execution_count": 5,
      "outputs": [
        {
          "output_type": "stream",
          "name": "stdout",
          "text": [
            "#lnb\n",
            "#content\n",
            "https://www.naver.com\n",
            "#\n",
            "#\n",
            "#\n",
            "#\n",
            "#\n",
            "https://help.naver.com/support/alias/search/word/word_29.naver\n",
            "https://help.naver.com/support/alias/search/word/word_29.naver\n",
            "https://help.naver.com/support/alias/search/word/word_29.naver\n",
            "#\n",
            "#\n",
            "#\n",
            "#\n",
            "@5@\n",
            "#\n",
            "#\n",
            "#\n",
            "#\n",
            "#\n",
            "#\n",
            "#\n",
            "https://help.naver.com/support/alias/search/word/word_16.naver\n",
            "#\n",
            "https://help.naver.com/support/alias/search/word/word_16.naver\n",
            "https://nid.naver.com/nidlogin.login?url=https%3A%2F%2Fsearch.naver.com%2Fsearch.naver%3Fsm%3Dtab_sug.top%26where%3Dnews%26query%3D%25EB%25B2%2594%25EC%25A3%2584%25EB%258F%2584%25EC%258B%259C2%26oquery%3D%25EA%25B5%25AD%25EB%25A6%25BD%25EA%25B3%25B5%25EC%259B%2590%26tqi%3DhojNBwp0J1sssMdfh30ssssstDh-113857%26acq%3D%25EB%25B2%2594%25EC%25A3%2584%25EB%258F%2584%25EC%258B%259C%26acr%3D1%26qdt%3D0\n",
            "https://help.naver.com/support/alias/search/word/word_16.naver\n",
            "#\n",
            "https://help.naver.com/support/alias/search/word/word_17.naver\n",
            "https://help.naver.com/support/alias/search/word/word_18.naver\n",
            "#\n",
            "?where=nexearch&sm=tab_jum&query=%EB%B2%94%EC%A3%84%EB%8F%84%EC%8B%9C2\n",
            "?where=view&sm=tab_jum&query=%EB%B2%94%EC%A3%84%EB%8F%84%EC%8B%9C2\n",
            "?where=image&sm=tab_jum&query=%EB%B2%94%EC%A3%84%EB%8F%84%EC%8B%9C2\n",
            "?where=kin&sm=tab_jum&query=%EB%B2%94%EC%A3%84%EB%8F%84%EC%8B%9C2\n",
            "?where=influencer&sm=tab_jum&query=%EB%B2%94%EC%A3%84%EB%8F%84%EC%8B%9C2\n",
            "?where=video&sm=tab_jum&query=%EB%B2%94%EC%A3%84%EB%8F%84%EC%8B%9C2\n",
            "https://search.shopping.naver.com/search/all?where=all&frm=NVSCTAB&query=%EB%B2%94%EC%A3%84%EB%8F%84%EC%8B%9C2\n",
            "?where=news&sm=tab_jum&query=%EB%B2%94%EC%A3%84%EB%8F%84%EC%8B%9C2\n",
            "https://dict.naver.com/search.nhn?dicQuery=%EB%B2%94%EC%A3%84%EB%8F%84%EC%8B%9C2&query=%EB%B2%94%EC%A3%84%EB%8F%84%EC%8B%9C2&target=dic&query_utf=&isOnlyViewEE=\n",
            "https://map.naver.com/v5/search/%EB%B2%94%EC%A3%84%EB%8F%84%EC%8B%9C2\n",
            "#\n",
            "https://book.naver.com/search/search.nhn?query=%EB%B2%94%EC%A3%84%EB%8F%84%EC%8B%9C2\n",
            "https://vibe.naver.com/search?query=%EB%B2%94%EC%A3%84%EB%8F%84%EC%8B%9C2\n",
            "?where=kdic&sm=tab_jum&query=%EB%B2%94%EC%A3%84%EB%8F%84%EC%8B%9C2\n",
            "https://audioclip.naver.com/search/all?keyword=%EB%B2%94%EC%A3%84%EB%8F%84%EC%8B%9C2\n",
            "https://academic.naver.com/search.naver?field=0&query=%EB%B2%94%EC%A3%84%EB%8F%84%EC%8B%9C2\n",
            "#\n",
            "#\n",
            "#\n",
            "#\n",
            "#\n",
            "javascript:;\n",
            "#\n",
            "#\n",
            "#\n",
            "#\n",
            "#\n",
            "#\n",
            "#\n",
            "#\n",
            "#\n",
            "#\n",
            "#\n",
            "#\n",
            "javascript:;\n",
            "javascript:;\n",
            "javascript:;\n",
            "javascript:;\n",
            "javascript:;\n",
            "javascript:;\n",
            "#\n",
            "#\n",
            "#\n",
            "#\n",
            "#\n",
            "#\n",
            "#\n",
            "#\n",
            "#\n",
            "javascript:;\n",
            "javascript:;\n",
            "?where=news&sm=tab_opt&query=%EB%B2%94%EC%A3%84%EB%8F%84%EC%8B%9C2&nso_open=1\n",
            "https://help.naver.com/support/alias/search/integration/intergration_88.naver\n",
            "https://news.naver.com/main/static/channelPromotion.html\n",
            "#\n",
            "#\n",
            "https://keep.naver.com/\n",
            "http://www.nocutnews.co.kr\n",
            "https://n.news.naver.com/mnews/article/079/0003655944?sid=106\n",
            "https://www.nocutnews.co.kr/news/5774805\n",
            "https://www.nocutnews.co.kr/news/5774805\n",
            "https://www.nocutnews.co.kr/news/5774805\n",
            "https://n.news.naver.com/mnews/article/382/0000987739?sid=106\n",
            "https://sports.donga.com/article/all/20220621/114044164/1\n",
            "https://n.news.naver.com/mnews/article/241/0003132034?sid=106\n",
            "https://isplus.joins.com/2022/06/21/enter/entertainment/20220621155205988.html\n",
            "https://n.news.naver.com/mnews/article/416/0000284587?sid=106\n",
            "https://ent.sbs.co.kr/news/article.do?article_id=E10010252778&plink=ORI&cooper=NAVER\n",
            "https://n.news.naver.com/mnews/article/469/0000681920?sid=106\n",
            "https://hankookilbo.com/News/Read/A2022062116150002307?did=NA\n",
            "?where=news&sm=tab_tnw&query=%EB%B2%94%EC%A3%84%EB%8F%84%EC%8B%9C2&sort=0&photo=0&field=0&pd=0&ds=&de=&mynews=0&office_type=0&office_section_code=0&news_office_checked=&related=1&docid=0790003655944&nso=so:r,p:all,a:all\n",
            "#\n",
            "#\n",
            "https://keep.naver.com/\n",
            "http://www.mk.co.kr/\n",
            "https://n.news.naver.com/mnews/article/009/0004981332?sid=106\n",
            "http://star.mk.co.kr/new/view.php?mc=ST&year=2022&no=546562\n",
            "http://star.mk.co.kr/new/view.php?mc=ST&year=2022&no=546562\n",
            "http://star.mk.co.kr/new/view.php?mc=ST&year=2022&no=546562\n",
            "https://n.news.naver.com/mnews/article/112/0003567796?sid=106\n",
            "http://biz.heraldcorp.com/view.php?ud=202206221400107870306_1\n",
            "https://n.news.naver.com/mnews/article/421/0006173545?sid=106\n",
            "https://www.news1.kr/articles/?4719782\n",
            "#\n",
            "#\n",
            "https://keep.naver.com/\n",
            "http://www.heraldpop.com/\n",
            "https://n.news.naver.com/mnews/article/112/0003567450?sid=106\n",
            "http://biz.heraldcorp.com/view.php?ud=202206211259434355286_1\n",
            "http://biz.heraldcorp.com/view.php?ud=202206211259434355286_1\n",
            "http://biz.heraldcorp.com/view.php?ud=202206211259434355286_1\n",
            "https://n.news.naver.com/mnews/article/213/0001220365?sid=106\n",
            "https://www.tvreport.co.kr/2106789\n",
            "#\n",
            "#\n",
            "https://keep.naver.com/\n",
            "http://www.heraldbiz.com/\n",
            "https://n.news.naver.com/mnews/article/016/0002005811?sid=103\n",
            "http://news.heraldcorp.com/view.php?ud=20220621000826\n",
            "http://news.heraldcorp.com/view.php?ud=20220621000826\n",
            "http://news.heraldcorp.com/view.php?ud=20220621000826\n",
            "#\n",
            "#\n",
            "https://keep.naver.com/\n",
            "http://www.osen.co.kr\n",
            "https://n.news.naver.com/mnews/article/109/0004642336?sid=106\n",
            "http://www.osen.co.kr/article/G1111877726\n",
            "http://www.osen.co.kr/article/G1111877726\n",
            "http://www.osen.co.kr/article/G1111877726\n",
            "https://n.news.naver.com/mnews/article/311/0001465583?sid=106\n",
            "https://www.xportsnews.com/article/1593929\n",
            "#\n",
            "#\n",
            "https://keep.naver.com/\n",
            "http://www.sportsseoul.com/\n",
            "https://n.news.naver.com/mnews/article/468/0000858466?sid=106\n",
            "http://www.sportsseoul.com/news/read/1135276?ref=naver\n",
            "http://www.sportsseoul.com/news/read/1135276?ref=naver\n",
            "http://www.sportsseoul.com/news/read/1135276?ref=naver\n",
            "#\n",
            "#\n",
            "https://keep.naver.com/\n",
            "http://www.wowtv.co.kr/\n",
            "https://n.news.naver.com/mnews/article/215/0001038859?sid=106\n",
            "http://www.wowtv.co.kr/NewsCenter/News/Read?articleId=A202206220226&t=NN\n",
            "http://www.wowtv.co.kr/NewsCenter/News/Read?articleId=A202206220226&t=NN\n",
            "http://www.wowtv.co.kr/NewsCenter/News/Read?articleId=A202206220226&t=NN\n",
            "https://www.gukjenews.com/news/articleView.html?idxno=2493074\n",
            "#\n",
            "#\n",
            "https://keep.naver.com/\n",
            "http://news1.kr/\n",
            "https://n.news.naver.com/mnews/article/421/0006171804?sid=106\n",
            "https://www.news1.kr/articles/?4719030\n",
            "https://www.news1.kr/articles/?4719030\n",
            "https://www.news1.kr/articles/?4719030\n",
            "#\n",
            "#\n",
            "https://keep.naver.com/\n",
            "http://news.jtbc.joins.com/\n",
            "https://n.news.naver.com/mnews/article/437/0000302835?sid=106\n",
            "https://news.jtbc.joins.com/article/article.aspx?news_id=NB12063270\n",
            "https://news.jtbc.joins.com/article/article.aspx?news_id=NB12063270\n",
            "https://news.jtbc.joins.com/article/article.aspx?news_id=NB12063270\n",
            "https://n.news.naver.com/mnews/article/109/0004641435?sid=106\n",
            "http://www.osen.co.kr/article/G1111876616\n",
            "#\n",
            "#\n",
            "https://keep.naver.com/\n",
            "https://sports.khan.co.kr/\n",
            "https://n.news.naver.com/mnews/article/144/0000821129?sid=106\n",
            "http://sports.khan.co.kr/news/sk_index.html?art_id=202206211038003&sec_id=540401&pt=nv\n",
            "http://sports.khan.co.kr/news/sk_index.html?art_id=202206211038003&sec_id=540401&pt=nv\n",
            "http://sports.khan.co.kr/news/sk_index.html?art_id=202206211038003&sec_id=540401&pt=nv\n",
            "https://help.naver.com/support/alias/news/news_21.naver\n",
            "None\n",
            "?where=news&sm=tab_pge&query=%EB%B2%94%EC%A3%84%EB%8F%84%EC%8B%9C2&sort=0&photo=0&field=0&pd=0&ds=&de=&cluster_rank=20&mynews=0&office_type=0&office_section_code=0&news_office_checked=&nso=so:r,p:all,a:all&start=1\n",
            "?where=news&sm=tab_pge&query=%EB%B2%94%EC%A3%84%EB%8F%84%EC%8B%9C2&sort=0&photo=0&field=0&pd=0&ds=&de=&cluster_rank=20&mynews=0&office_type=0&office_section_code=0&news_office_checked=&nso=so:r,p:all,a:all&start=11\n",
            "?where=news&sm=tab_pge&query=%EB%B2%94%EC%A3%84%EB%8F%84%EC%8B%9C2&sort=0&photo=0&field=0&pd=0&ds=&de=&cluster_rank=20&mynews=0&office_type=0&office_section_code=0&news_office_checked=&nso=so:r,p:all,a:all&start=21\n",
            "?where=news&sm=tab_pge&query=%EB%B2%94%EC%A3%84%EB%8F%84%EC%8B%9C2&sort=0&photo=0&field=0&pd=0&ds=&de=&cluster_rank=20&mynews=0&office_type=0&office_section_code=0&news_office_checked=&nso=so:r,p:all,a:all&start=31\n",
            "?where=news&sm=tab_pge&query=%EB%B2%94%EC%A3%84%EB%8F%84%EC%8B%9C2&sort=0&photo=0&field=0&pd=0&ds=&de=&cluster_rank=20&mynews=0&office_type=0&office_section_code=0&news_office_checked=&nso=so:r,p:all,a:all&start=41\n",
            "?where=news&sm=tab_pge&query=%EB%B2%94%EC%A3%84%EB%8F%84%EC%8B%9C2&sort=0&photo=0&field=0&pd=0&ds=&de=&cluster_rank=20&mynews=0&office_type=0&office_section_code=0&news_office_checked=&nso=so:r,p:all,a:all&start=51\n",
            "?where=news&sm=tab_pge&query=%EB%B2%94%EC%A3%84%EB%8F%84%EC%8B%9C2&sort=0&photo=0&field=0&pd=0&ds=&de=&cluster_rank=20&mynews=0&office_type=0&office_section_code=0&news_office_checked=&nso=so:r,p:all,a:all&start=61\n",
            "?where=news&sm=tab_pge&query=%EB%B2%94%EC%A3%84%EB%8F%84%EC%8B%9C2&sort=0&photo=0&field=0&pd=0&ds=&de=&cluster_rank=20&mynews=0&office_type=0&office_section_code=0&news_office_checked=&nso=so:r,p:all,a:all&start=71\n",
            "?where=news&sm=tab_pge&query=%EB%B2%94%EC%A3%84%EB%8F%84%EC%8B%9C2&sort=0&photo=0&field=0&pd=0&ds=&de=&cluster_rank=20&mynews=0&office_type=0&office_section_code=0&news_office_checked=&nso=so:r,p:all,a:all&start=81\n",
            "?where=news&sm=tab_pge&query=%EB%B2%94%EC%A3%84%EB%8F%84%EC%8B%9C2&sort=0&photo=0&field=0&pd=0&ds=&de=&cluster_rank=20&mynews=0&office_type=0&office_section_code=0&news_office_checked=&nso=so:r,p:all,a:all&start=91\n",
            "?where=news&sm=tab_pge&query=%EB%B2%94%EC%A3%84%EB%8F%84%EC%8B%9C2&sort=0&photo=0&field=0&pd=0&ds=&de=&cluster_rank=20&mynews=0&office_type=0&office_section_code=0&news_office_checked=&nso=so:r,p:all,a:all&start=11\n",
            "https://help.naver.com/support/alias/search/word/word_1.naver\n",
            "https://help.naver.com/support/alias/search/word/word_2.naver\n",
            "#\n",
            "?where=news&query=%EB%B2%94%EC%A3%84%EB%8F%84%EC%8B%9C2+%EC%B6%9C%EC%97%B0%EC%A7%84&ie=utf8&sm=tab_she&qdt=0\n",
            "?where=news&query=%EB%B2%94%EC%A3%84%EB%8F%84%EC%8B%9C2+%EC%A0%95%EB%B3%B4&ie=utf8&sm=tab_she&qdt=0\n",
            "?where=news&query=%EB%B2%94%EC%A3%84%EB%8F%84%EC%8B%9C2+%ED%8F%89%EC%A0%90&ie=utf8&sm=tab_she&qdt=0\n",
            "?where=news&query=%EB%B2%94%EC%A3%84%EB%8F%84%EC%8B%9C2+%EC%BF%A0%ED%82%A4&ie=utf8&sm=tab_she&qdt=0\n",
            "?where=news&query=%EB%B2%94%EC%A3%84%EB%8F%84%EC%8B%9C2+%EB%93%B1%EC%9E%A5%EC%9D%B8%EB%AC%BC&ie=utf8&sm=tab_she&qdt=0\n",
            "?where=news&query=%EB%B2%94%EC%A3%84%EB%8F%84%EC%8B%9C2+%EC%BF%A0%ED%82%A4%EC%98%81%EC%83%81&ie=utf8&sm=tab_she&qdt=0\n",
            "?where=news&query=%EB%B2%94%EC%A3%84%EB%8F%84%EC%8B%9C2+%EB%AA%85%EB%8C%80%EC%82%AC&ie=utf8&sm=tab_she&qdt=0\n",
            "?where=news&query=%EB%B2%94%EC%A3%84%EB%8F%84%EC%8B%9C2+%EB%AC%B4%EB%8C%80%EC%9D%B8%EC%82%AC&ie=utf8&sm=tab_she&qdt=0\n",
            "?where=news&query=%EC%98%81%ED%99%94+%EB%B2%94%EC%A3%84%EB%8F%84%EC%8B%9C2&ie=utf8&sm=tab_she&qdt=0\n",
            "?where=news&query=%EB%B2%94%EC%A3%84%EB%8F%84%EC%8B%9C2+%EC%98%88%EA%B3%A0%ED%8E%B8&ie=utf8&sm=tab_she&qdt=0\n",
            "#\n",
            "#\n",
            "https://m.news.naver.com/covid19/index.nhn\n",
            "?where=nexearch&query=%EC%8B%A0%EC%86%8D%ED%95%AD%EC%9B%90%EA%B2%80%EC%82%AC%EA%B8%B0%EA%B4%80&sm=tab_etc\n",
            "https://news.naver.com/main/factcheck/main.nhn?section=%C4%DA%B7%CE%B3%AA%B9%E9%BD%C5\n",
            "?where=nexearch&query=%EC%9A%B0%EB%A6%AC%EB%8F%99%EB%84%A4+%EC%9E%94%EC%97%AC%EB%B0%B1%EC%8B%A0%EC%98%88%EC%95%BD&sm=tab_etc\n",
            "#\n",
            "https://www.naver.com/more.html\n",
            "https://policy.naver.com/policy/service.html\n",
            "https://policy.naver.com/policy/privacy.html\n",
            "https://help.naver.com/support/alias/search/integration/integration_1.naver\n",
            "https://www.navercorp.com/\n"
          ]
        }
      ]
    },
    {
      "cell_type": "markdown",
      "source": [
        "뉴스 제목(title)만을 출력하고 싶다면\n",
        "* 크롬 브라우저에서 제목을 우클릭한 후 '검사'버튼을 클릭\n",
        "* a 태그에 class = \"news_tit\" 속성을 확인\"\n"
      ],
      "metadata": {
        "id": "A4tFeNJX1s-1"
      }
    },
    {
      "cell_type": "code",
      "source": [
        "news_tit = soup.findAll(\"a\", {\"class\":\"news_tit\"})\n",
        "print(news_tit)"
      ],
      "metadata": {
        "colab": {
          "base_uri": "https://localhost:8080/"
        },
        "id": "3oJ_0NuIzP1O",
        "outputId": "fec79174-f8c6-43ee-c8e5-3ad8f4c66e9c"
      },
      "execution_count": 6,
      "outputs": [
        {
          "output_type": "stream",
          "name": "stdout",
          "text": [
            "[<a class=\"news_tit\" href=\"https://www.nocutnews.co.kr/news/5774805\" onclick=\"return goOtherCR(this, 'a=nws*a.tit&amp;r=1&amp;i=88000112_000000000000000003655944&amp;g=079.0003655944&amp;u='+urlencode(this.href));\" target=\"_blank\" title=\"'범죄도시 2', '부산행' 뛰어넘고 역대 韓 영화 15위\">'<mark>범죄도시 2</mark>', '부산행' 뛰어넘고 역대 韓 영화 15위</a>, <a class=\"news_tit\" href=\"http://star.mk.co.kr/new/view.php?mc=ST&amp;year=2022&amp;no=546562\" onclick=\"return goOtherCR(this, 'a=nws*a.tit&amp;r=6&amp;i=880000BC_000000000000000004981332&amp;g=009.0004981332&amp;u='+urlencode(this.href));\" target=\"_blank\" title=\"'범죄도시3' 빌런 이준혁 벌크업...마동석과 맞장 준비 중\">'<mark>범죄도시</mark>3' 빌런 이준혁 벌크업...마동석과 맞장 준비 중</a>, <a class=\"news_tit\" href=\"http://biz.heraldcorp.com/view.php?ud=202206211259434355286_1\" onclick=\"return goOtherCR(this, 'a=nws*a.tit&amp;r=9&amp;i=88000110_000000000000000003567450&amp;g=112.0003567450&amp;u='+urlencode(this.href));\" target=\"_blank\" title=\"'범죄도시2'·'우블' 박지환 &quot;또 다른 감각 느끼도록 해야 장면 살아나&quot;[화보]\">'<mark>범죄도시2</mark>'·'우블' 박지환 \"또 다른 감각 느끼도록 해야 장면 살아나\"[화보...</a>, <a class=\"news_tit\" href=\"http://news.heraldcorp.com/view.php?ud=20220621000826\" onclick=\"return goOtherCR(this, 'a=nws*j.tit&amp;r=11&amp;i=8800010E_000000000000000002005811&amp;g=016.0002005811&amp;u='+urlencode(this.href));\" target=\"_blank\" title=\"‘마녀2’·‘범죄도시2’ 보고 싶은데…주말 영화 1만5000원?\">‘마녀2’·‘<mark>범죄도시2</mark>’ 보고 싶은데…주말 영화 1만5000원?</a>, <a class=\"news_tit\" href=\"http://www.osen.co.kr/article/G1111877726\" onclick=\"return goOtherCR(this, 'a=nws*a.tit&amp;r=12&amp;i=8800011B_000000000000000004642336&amp;g=109.0004642336&amp;u='+urlencode(this.href));\" target=\"_blank\" title=\"정재광, '범죄도시2'→'구필수는 없다' 영화 드라마 오가는 눈부신 활약\">정재광, '<mark>범죄도시2</mark>'→'구필수는 없다' 영화 드라마 오가는 눈부신 활약</a>, <a class=\"news_tit\" href=\"http://www.sportsseoul.com/news/read/1135276?ref=naver\" onclick=\"return goOtherCR(this, 'a=nws*e.tit&amp;r=14&amp;i=88156f78_000000000000000000858466&amp;g=468.0000858466&amp;u='+urlencode(this.href));\" target=\"_blank\" title=\"‘범죄도시2’, ‘부산행’ 뛰어넘었다...역대 흥행 순위 15위 [SS무비\">‘<mark>범죄도시2</mark>’, ‘부산행’ 뛰어넘었다...역대 흥행 순위 15위 [SS무비</a>, <a class=\"news_tit\" href=\"http://www.wowtv.co.kr/NewsCenter/News/Read?articleId=A202206220226&amp;t=NN\" onclick=\"return goOtherCR(this, 'a=nws*a.tit&amp;r=15&amp;i=88000149_000000000000000001038859&amp;g=215.0001038859&amp;u='+urlencode(this.href));\" target=\"_blank\" title=\"‘범죄도시2’ 전진오, 전천후 멀티맨 대활약 빛났다\">‘<mark>범죄도시2</mark>’ 전진오, 전천후 멀티맨 대활약 빛났다</a>, <a class=\"news_tit\" href=\"https://www.news1.kr/articles/?4719030\" onclick=\"return goOtherCR(this, 'a=nws*e.tit&amp;r=17&amp;i=08138263_000000000000000006171804&amp;g=421.0006171804&amp;u='+urlencode(this.href));\" target=\"_blank\" title=\"'마녀 2', 168만↑ 1위…역대 19위 '부산행' 꺾은 '범죄도시2' [Nbox]\">'마녀 2', 168만↑ 1위…역대 19위 '부산행' 꺾은 '<mark>범죄도시2</mark>' [Nbox]</a>, <a class=\"news_tit\" href=\"https://news.jtbc.joins.com/article/article.aspx?news_id=NB12063270\" onclick=\"return goOtherCR(this, 'a=nws*a.tit&amp;r=18&amp;i=08138260_000000000000000000302835&amp;g=437.0000302835&amp;u='+urlencode(this.href));\" target=\"_blank\" title=\"마동석 넘는 마동석…'범죄도시2' 오늘(21일) '부산행' 기록 깬다\">마동석 넘는 마동석…'<mark>범죄도시2</mark>' 오늘(21일) '부산행' 기록 깬다</a>, <a class=\"news_tit\" href=\"http://sports.khan.co.kr/news/sk_index.html?art_id=202206211038003&amp;sec_id=540401&amp;pt=nv\" onclick=\"return goOtherCR(this, 'a=nws*e.tit&amp;r=20&amp;i=8800006D_000000000000000000821129&amp;g=144.0000821129&amp;u='+urlencode(this.href));\" target=\"_blank\" title=\"‘탑건: 매버릭’ 사전예매량, ‘범죄도시2’ 넘었다\">‘탑건: 매버릭’ 사전예매량, ‘<mark>범죄도시2</mark>’ 넘었다</a>]\n"
          ]
        }
      ]
    },
    {
      "cell_type": "code",
      "source": [
        "news_tit[0]"
      ],
      "metadata": {
        "colab": {
          "base_uri": "https://localhost:8080/"
        },
        "id": "bxRBSnDqzSb_",
        "outputId": "8c1d676e-5534-452c-8b05-e15059e36f7f"
      },
      "execution_count": 7,
      "outputs": [
        {
          "output_type": "execute_result",
          "data": {
            "text/plain": [
              "<a class=\"news_tit\" href=\"https://www.nocutnews.co.kr/news/5774805\" onclick=\"return goOtherCR(this, 'a=nws*a.tit&amp;r=1&amp;i=88000112_000000000000000003655944&amp;g=079.0003655944&amp;u='+urlencode(this.href));\" target=\"_blank\" title=\"'범죄도시 2', '부산행' 뛰어넘고 역대 韓 영화 15위\">'<mark>범죄도시 2</mark>', '부산행' 뛰어넘고 역대 韓 영화 15위</a>"
            ]
          },
          "metadata": {},
          "execution_count": 7
        }
      ]
    },
    {
      "cell_type": "code",
      "source": [
        "news_tit[0].get('href')"
      ],
      "metadata": {
        "colab": {
          "base_uri": "https://localhost:8080/",
          "height": 35
        },
        "id": "5VZfYK6gzTsf",
        "outputId": "15dc6067-82e9-4123-d627-464a9565b191"
      },
      "execution_count": 8,
      "outputs": [
        {
          "output_type": "execute_result",
          "data": {
            "text/plain": [
              "'https://www.nocutnews.co.kr/news/5774805'"
            ],
            "application/vnd.google.colaboratory.intrinsic+json": {
              "type": "string"
            }
          },
          "metadata": {},
          "execution_count": 8
        }
      ]
    },
    {
      "cell_type": "code",
      "source": [
        "news_tit[0].get('title')"
      ],
      "metadata": {
        "colab": {
          "base_uri": "https://localhost:8080/",
          "height": 35
        },
        "id": "n9IIPlbKzU14",
        "outputId": "c75125b6-f756-44a8-ddce-6b36292311fd"
      },
      "execution_count": 9,
      "outputs": [
        {
          "output_type": "execute_result",
          "data": {
            "text/plain": [
              "\"'범죄도시 2', '부산행' 뛰어넘고 역대 韓 영화 15위\""
            ],
            "application/vnd.google.colaboratory.intrinsic+json": {
              "type": "string"
            }
          },
          "metadata": {},
          "execution_count": 9
        }
      ]
    },
    {
      "cell_type": "code",
      "source": [
        "len(news_tit)"
      ],
      "metadata": {
        "colab": {
          "base_uri": "https://localhost:8080/"
        },
        "id": "5NRwEi7HzV98",
        "outputId": "6cfffae0-dade-4831-ef62-69a5a952db32"
      },
      "execution_count": 10,
      "outputs": [
        {
          "output_type": "execute_result",
          "data": {
            "text/plain": [
              "10"
            ]
          },
          "metadata": {},
          "execution_count": 10
        }
      ]
    },
    {
      "cell_type": "code",
      "source": [
        "for i in range(len(news_tit)): #반복문을 통해 기사 제목만을 호출\n",
        "    print(news_tit[i].get('title'))"
      ],
      "metadata": {
        "colab": {
          "base_uri": "https://localhost:8080/"
        },
        "id": "-08_TiI9zXWL",
        "outputId": "0a7c864c-fc57-4aee-ef98-a6241d64d784"
      },
      "execution_count": 11,
      "outputs": [
        {
          "output_type": "stream",
          "name": "stdout",
          "text": [
            "'범죄도시 2', '부산행' 뛰어넘고 역대 韓 영화 15위\n",
            "'범죄도시3' 빌런 이준혁 벌크업...마동석과 맞장 준비 중\n",
            "'범죄도시2'·'우블' 박지환 \"또 다른 감각 느끼도록 해야 장면 살아나\"[화보]\n",
            "‘마녀2’·‘범죄도시2’ 보고 싶은데…주말 영화 1만5000원?\n",
            "정재광, '범죄도시2'→'구필수는 없다' 영화 드라마 오가는 눈부신 활약\n",
            "‘범죄도시2’, ‘부산행’ 뛰어넘었다...역대 흥행 순위 15위 [SS무비\n",
            "‘범죄도시2’ 전진오, 전천후 멀티맨 대활약 빛났다\n",
            "'마녀 2', 168만↑ 1위…역대 19위 '부산행' 꺾은 '범죄도시2' [Nbox]\n",
            "마동석 넘는 마동석…'범죄도시2' 오늘(21일) '부산행' 기록 깬다\n",
            "‘탑건: 매버릭’ 사전예매량, ‘범죄도시2’ 넘었다\n"
          ]
        }
      ]
    }
  ],
  "metadata": {
    "kernelspec": {
      "display_name": "Python 3",
      "language": "python",
      "name": "python3"
    },
    "language_info": {
      "codemirror_mode": {
        "name": "ipython",
        "version": 3
      },
      "file_extension": ".py",
      "mimetype": "text/x-python",
      "name": "python",
      "nbconvert_exporter": "python",
      "pygments_lexer": "ipython3",
      "version": "3.8.5"
    },
    "colab": {
      "name": "NewsTitle_beautifulsoup.ipynb",
      "provenance": []
    }
  },
  "nbformat": 4,
  "nbformat_minor": 0
}